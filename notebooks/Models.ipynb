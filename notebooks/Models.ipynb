{
 "cells": [
  {
   "cell_type": "markdown",
   "id": "14974371",
   "metadata": {
    "papermill": {
     "duration": 0.007589,
     "end_time": "2025-07-15T12:47:17.758803",
     "exception": false,
     "start_time": "2025-07-15T12:47:17.751214",
     "status": "completed"
    },
    "tags": []
   },
   "source": [
    "# <center> Customer Churn Prediction — EDA</center>"
   ]
  },
  {
   "cell_type": "markdown",
   "id": "82510c42",
   "metadata": {
    "papermill": {
     "duration": 0.006319,
     "end_time": "2025-07-15T12:47:17.772604",
     "exception": false,
     "start_time": "2025-07-15T12:47:17.766285",
     "status": "completed"
    },
    "tags": []
   },
   "source": [
    "This notebook analyzes data from a telecommunications company to identify patterns in customer churn (`Churn`).\n",
    "\n",
    "We will examine demographic and behavioral attributes to understand: **who is churning and why**.\n",
    "\n",
    "**Target variable:** `Churn`\n",
    "Problem type: **binary classification**"
   ]
  },
  {
   "cell_type": "markdown",
   "id": "6ebd105b",
   "metadata": {
    "papermill": {
     "duration": 0.006968,
     "end_time": "2025-07-15T12:47:17.786365",
     "exception": false,
     "start_time": "2025-07-15T12:47:17.779397",
     "status": "completed"
    },
    "tags": []
   },
   "source": [
    "## 🔍 Objective:\n",
    "Build a classification model that predicts whether a customer will churn (`Churn = Yes`) or not (`Churn = No`)."
   ]
  },
  {
   "cell_type": "code",
   "execution_count": 1,
   "id": "94c8e381",
   "metadata": {
    "execution": {
     "iopub.execute_input": "2025-07-15T12:47:17.802432Z",
     "iopub.status.busy": "2025-07-15T12:47:17.802024Z",
     "iopub.status.idle": "2025-07-15T12:47:21.962542Z",
     "shell.execute_reply": "2025-07-15T12:47:21.961592Z"
    },
    "papermill": {
     "duration": 4.170591,
     "end_time": "2025-07-15T12:47:21.964365",
     "exception": false,
     "start_time": "2025-07-15T12:47:17.793774",
     "status": "completed"
    },
    "tags": []
   },
   "outputs": [],
   "source": [
    "# Importing libraries\n",
    "import numpy as np\n",
    "import pandas as pd\n",
    "import matplotlib.pyplot as plt\n",
    "import seaborn as sns\n",
    "\n",
    "# Set default plot style\n",
    "sns.set_style(\"whitegrid\")\n",
    "sns.set_palette([\"#d38b8b\", \"#b0cde6\"])  "
   ]
  },
  {
   "cell_type": "code",
   "execution_count": 2,
   "id": "4e384b68",
   "metadata": {
    "execution": {
     "iopub.execute_input": "2025-07-15T12:47:21.979185Z",
     "iopub.status.busy": "2025-07-15T12:47:21.978667Z",
     "iopub.status.idle": "2025-07-15T12:47:22.083642Z",
     "shell.execute_reply": "2025-07-15T12:47:22.082671Z"
    },
    "papermill": {
     "duration": 0.114249,
     "end_time": "2025-07-15T12:47:22.085491",
     "exception": false,
     "start_time": "2025-07-15T12:47:21.971242",
     "status": "completed"
    },
    "tags": []
   },
   "outputs": [
    {
     "data": {
      "text/html": [
       "<div>\n",
       "<style scoped>\n",
       "    .dataframe tbody tr th:only-of-type {\n",
       "        vertical-align: middle;\n",
       "    }\n",
       "\n",
       "    .dataframe tbody tr th {\n",
       "        vertical-align: top;\n",
       "    }\n",
       "\n",
       "    .dataframe thead th {\n",
       "        text-align: right;\n",
       "    }\n",
       "</style>\n",
       "<table border=\"1\" class=\"dataframe\">\n",
       "  <thead>\n",
       "    <tr style=\"text-align: right;\">\n",
       "      <th></th>\n",
       "      <th>customerID</th>\n",
       "      <th>gender</th>\n",
       "      <th>SeniorCitizen</th>\n",
       "      <th>Partner</th>\n",
       "      <th>Dependents</th>\n",
       "      <th>tenure</th>\n",
       "      <th>PhoneService</th>\n",
       "      <th>MultipleLines</th>\n",
       "      <th>InternetService</th>\n",
       "      <th>OnlineSecurity</th>\n",
       "      <th>...</th>\n",
       "      <th>DeviceProtection</th>\n",
       "      <th>TechSupport</th>\n",
       "      <th>StreamingTV</th>\n",
       "      <th>StreamingMovies</th>\n",
       "      <th>Contract</th>\n",
       "      <th>PaperlessBilling</th>\n",
       "      <th>PaymentMethod</th>\n",
       "      <th>MonthlyCharges</th>\n",
       "      <th>TotalCharges</th>\n",
       "      <th>Churn</th>\n",
       "    </tr>\n",
       "  </thead>\n",
       "  <tbody>\n",
       "    <tr>\n",
       "      <th>0</th>\n",
       "      <td>7590-VHVEG</td>\n",
       "      <td>Female</td>\n",
       "      <td>0</td>\n",
       "      <td>Yes</td>\n",
       "      <td>No</td>\n",
       "      <td>1</td>\n",
       "      <td>No</td>\n",
       "      <td>No phone service</td>\n",
       "      <td>DSL</td>\n",
       "      <td>No</td>\n",
       "      <td>...</td>\n",
       "      <td>No</td>\n",
       "      <td>No</td>\n",
       "      <td>No</td>\n",
       "      <td>No</td>\n",
       "      <td>Month-to-month</td>\n",
       "      <td>Yes</td>\n",
       "      <td>Electronic check</td>\n",
       "      <td>29.85</td>\n",
       "      <td>29.85</td>\n",
       "      <td>No</td>\n",
       "    </tr>\n",
       "    <tr>\n",
       "      <th>1</th>\n",
       "      <td>5575-GNVDE</td>\n",
       "      <td>Male</td>\n",
       "      <td>0</td>\n",
       "      <td>No</td>\n",
       "      <td>No</td>\n",
       "      <td>34</td>\n",
       "      <td>Yes</td>\n",
       "      <td>No</td>\n",
       "      <td>DSL</td>\n",
       "      <td>Yes</td>\n",
       "      <td>...</td>\n",
       "      <td>Yes</td>\n",
       "      <td>No</td>\n",
       "      <td>No</td>\n",
       "      <td>No</td>\n",
       "      <td>One year</td>\n",
       "      <td>No</td>\n",
       "      <td>Mailed check</td>\n",
       "      <td>56.95</td>\n",
       "      <td>1889.5</td>\n",
       "      <td>No</td>\n",
       "    </tr>\n",
       "    <tr>\n",
       "      <th>2</th>\n",
       "      <td>3668-QPYBK</td>\n",
       "      <td>Male</td>\n",
       "      <td>0</td>\n",
       "      <td>No</td>\n",
       "      <td>No</td>\n",
       "      <td>2</td>\n",
       "      <td>Yes</td>\n",
       "      <td>No</td>\n",
       "      <td>DSL</td>\n",
       "      <td>Yes</td>\n",
       "      <td>...</td>\n",
       "      <td>No</td>\n",
       "      <td>No</td>\n",
       "      <td>No</td>\n",
       "      <td>No</td>\n",
       "      <td>Month-to-month</td>\n",
       "      <td>Yes</td>\n",
       "      <td>Mailed check</td>\n",
       "      <td>53.85</td>\n",
       "      <td>108.15</td>\n",
       "      <td>Yes</td>\n",
       "    </tr>\n",
       "    <tr>\n",
       "      <th>3</th>\n",
       "      <td>7795-CFOCW</td>\n",
       "      <td>Male</td>\n",
       "      <td>0</td>\n",
       "      <td>No</td>\n",
       "      <td>No</td>\n",
       "      <td>45</td>\n",
       "      <td>No</td>\n",
       "      <td>No phone service</td>\n",
       "      <td>DSL</td>\n",
       "      <td>Yes</td>\n",
       "      <td>...</td>\n",
       "      <td>Yes</td>\n",
       "      <td>Yes</td>\n",
       "      <td>No</td>\n",
       "      <td>No</td>\n",
       "      <td>One year</td>\n",
       "      <td>No</td>\n",
       "      <td>Bank transfer (automatic)</td>\n",
       "      <td>42.30</td>\n",
       "      <td>1840.75</td>\n",
       "      <td>No</td>\n",
       "    </tr>\n",
       "    <tr>\n",
       "      <th>4</th>\n",
       "      <td>9237-HQITU</td>\n",
       "      <td>Female</td>\n",
       "      <td>0</td>\n",
       "      <td>No</td>\n",
       "      <td>No</td>\n",
       "      <td>2</td>\n",
       "      <td>Yes</td>\n",
       "      <td>No</td>\n",
       "      <td>Fiber optic</td>\n",
       "      <td>No</td>\n",
       "      <td>...</td>\n",
       "      <td>No</td>\n",
       "      <td>No</td>\n",
       "      <td>No</td>\n",
       "      <td>No</td>\n",
       "      <td>Month-to-month</td>\n",
       "      <td>Yes</td>\n",
       "      <td>Electronic check</td>\n",
       "      <td>70.70</td>\n",
       "      <td>151.65</td>\n",
       "      <td>Yes</td>\n",
       "    </tr>\n",
       "  </tbody>\n",
       "</table>\n",
       "<p>5 rows × 21 columns</p>\n",
       "</div>"
      ],
      "text/plain": [
       "   customerID  gender  SeniorCitizen Partner Dependents  tenure PhoneService  \\\n",
       "0  7590-VHVEG  Female              0     Yes         No       1           No   \n",
       "1  5575-GNVDE    Male              0      No         No      34          Yes   \n",
       "2  3668-QPYBK    Male              0      No         No       2          Yes   \n",
       "3  7795-CFOCW    Male              0      No         No      45           No   \n",
       "4  9237-HQITU  Female              0      No         No       2          Yes   \n",
       "\n",
       "      MultipleLines InternetService OnlineSecurity  ... DeviceProtection  \\\n",
       "0  No phone service             DSL             No  ...               No   \n",
       "1                No             DSL            Yes  ...              Yes   \n",
       "2                No             DSL            Yes  ...               No   \n",
       "3  No phone service             DSL            Yes  ...              Yes   \n",
       "4                No     Fiber optic             No  ...               No   \n",
       "\n",
       "  TechSupport StreamingTV StreamingMovies        Contract PaperlessBilling  \\\n",
       "0          No          No              No  Month-to-month              Yes   \n",
       "1          No          No              No        One year               No   \n",
       "2          No          No              No  Month-to-month              Yes   \n",
       "3         Yes          No              No        One year               No   \n",
       "4          No          No              No  Month-to-month              Yes   \n",
       "\n",
       "               PaymentMethod MonthlyCharges  TotalCharges Churn  \n",
       "0           Electronic check          29.85         29.85    No  \n",
       "1               Mailed check          56.95        1889.5    No  \n",
       "2               Mailed check          53.85        108.15   Yes  \n",
       "3  Bank transfer (automatic)          42.30       1840.75    No  \n",
       "4           Electronic check          70.70        151.65   Yes  \n",
       "\n",
       "[5 rows x 21 columns]"
      ]
     },
     "execution_count": 2,
     "metadata": {},
     "output_type": "execute_result"
    }
   ],
   "source": [
    "#  Load dataset\n",
    "\n",
    "df = pd.read_csv('/kaggle/input/telco-customer-churn/WA_Fn-UseC_-Telco-Customer-Churn.csv')\n",
    "df.head()"
   ]
  },
  {
   "cell_type": "markdown",
   "id": "22b5cb6b",
   "metadata": {
    "papermill": {
     "duration": 0.00674,
     "end_time": "2025-07-15T12:47:22.099932",
     "exception": false,
     "start_time": "2025-07-15T12:47:22.093192",
     "status": "completed"
    },
    "tags": []
   },
   "source": [
    "## 📋 Data overview\n",
    "\n",
    "Let's take a look at the structure and types of the data.\n"
   ]
  },
  {
   "cell_type": "code",
   "execution_count": 3,
   "id": "e63c5b76",
   "metadata": {
    "execution": {
     "iopub.execute_input": "2025-07-15T12:47:22.115877Z",
     "iopub.status.busy": "2025-07-15T12:47:22.115557Z",
     "iopub.status.idle": "2025-07-15T12:47:22.146237Z",
     "shell.execute_reply": "2025-07-15T12:47:22.144974Z"
    },
    "papermill": {
     "duration": 0.040429,
     "end_time": "2025-07-15T12:47:22.147890",
     "exception": false,
     "start_time": "2025-07-15T12:47:22.107461",
     "status": "completed"
    },
    "tags": []
   },
   "outputs": [
    {
     "name": "stdout",
     "output_type": "stream",
     "text": [
      "<class 'pandas.core.frame.DataFrame'>\n",
      "RangeIndex: 7043 entries, 0 to 7042\n",
      "Data columns (total 21 columns):\n",
      " #   Column            Non-Null Count  Dtype  \n",
      "---  ------            --------------  -----  \n",
      " 0   customerID        7043 non-null   object \n",
      " 1   gender            7043 non-null   object \n",
      " 2   SeniorCitizen     7043 non-null   int64  \n",
      " 3   Partner           7043 non-null   object \n",
      " 4   Dependents        7043 non-null   object \n",
      " 5   tenure            7043 non-null   int64  \n",
      " 6   PhoneService      7043 non-null   object \n",
      " 7   MultipleLines     7043 non-null   object \n",
      " 8   InternetService   7043 non-null   object \n",
      " 9   OnlineSecurity    7043 non-null   object \n",
      " 10  OnlineBackup      7043 non-null   object \n",
      " 11  DeviceProtection  7043 non-null   object \n",
      " 12  TechSupport       7043 non-null   object \n",
      " 13  StreamingTV       7043 non-null   object \n",
      " 14  StreamingMovies   7043 non-null   object \n",
      " 15  Contract          7043 non-null   object \n",
      " 16  PaperlessBilling  7043 non-null   object \n",
      " 17  PaymentMethod     7043 non-null   object \n",
      " 18  MonthlyCharges    7043 non-null   float64\n",
      " 19  TotalCharges      7043 non-null   object \n",
      " 20  Churn             7043 non-null   object \n",
      "dtypes: float64(1), int64(2), object(18)\n",
      "memory usage: 1.1+ MB\n"
     ]
    }
   ],
   "source": [
    "df.info()"
   ]
  },
  {
   "cell_type": "markdown",
   "id": "a0977e99",
   "metadata": {
    "papermill": {
     "duration": 0.006757,
     "end_time": "2025-07-15T12:47:22.161783",
     "exception": false,
     "start_time": "2025-07-15T12:47:22.155026",
     "status": "completed"
    },
    "tags": []
   },
   "source": [
    "💡 **Note**:  \n",
    "Most features are stored as `object`, even numerical-looking fields like `TotalCharges`.  \n",
    "\n",
    "Some values in `TotalCharges` were strings, possibly due to spaces. We'll need to convert them to `float` and remove lines with missing ones."
   ]
  },
  {
   "cell_type": "code",
   "execution_count": 4,
   "id": "6e6d9be4",
   "metadata": {
    "execution": {
     "iopub.execute_input": "2025-07-15T12:47:22.176803Z",
     "iopub.status.busy": "2025-07-15T12:47:22.176455Z",
     "iopub.status.idle": "2025-07-15T12:47:22.190788Z",
     "shell.execute_reply": "2025-07-15T12:47:22.189739Z"
    },
    "papermill": {
     "duration": 0.023794,
     "end_time": "2025-07-15T12:47:22.192388",
     "exception": false,
     "start_time": "2025-07-15T12:47:22.168594",
     "status": "completed"
    },
    "tags": []
   },
   "outputs": [
    {
     "name": "stdout",
     "output_type": "stream",
     "text": [
      "Missing values in TotalCharges: 11\n"
     ]
    }
   ],
   "source": [
    "# Convert TotalCharges to numeric\n",
    "df['TotalCharges'] = pd.to_numeric(df['TotalCharges'], errors='coerce')\n",
    "\n",
    "# Drop rows where TotalCharges couldn't be converted\n",
    "print(\"Missing values in TotalCharges:\", df['TotalCharges'].isna().sum())\n",
    "df = df.dropna(subset=['TotalCharges'])\n",
    "\n",
    "# Reset index after drop\n",
    "df.reset_index(drop=True, inplace=True)"
   ]
  },
  {
   "cell_type": "markdown",
   "id": "fae7e70f",
   "metadata": {
    "papermill": {
     "duration": 0.006791,
     "end_time": "2025-07-15T12:47:22.206476",
     "exception": false,
     "start_time": "2025-07-15T12:47:22.199685",
     "status": "completed"
    },
    "tags": []
   },
   "source": [
    "<u>Now the dataset is clean and ready for analysis.</u>\n",
    "\n",
    "Let's look at summary statistics. "
   ]
  },
  {
   "cell_type": "code",
   "execution_count": 5,
   "id": "c2c6be9e",
   "metadata": {
    "execution": {
     "iopub.execute_input": "2025-07-15T12:47:22.221708Z",
     "iopub.status.busy": "2025-07-15T12:47:22.221381Z",
     "iopub.status.idle": "2025-07-15T12:47:22.247045Z",
     "shell.execute_reply": "2025-07-15T12:47:22.246164Z"
    },
    "papermill": {
     "duration": 0.035091,
     "end_time": "2025-07-15T12:47:22.248441",
     "exception": false,
     "start_time": "2025-07-15T12:47:22.213350",
     "status": "completed"
    },
    "tags": []
   },
   "outputs": [
    {
     "data": {
      "text/html": [
       "<div>\n",
       "<style scoped>\n",
       "    .dataframe tbody tr th:only-of-type {\n",
       "        vertical-align: middle;\n",
       "    }\n",
       "\n",
       "    .dataframe tbody tr th {\n",
       "        vertical-align: top;\n",
       "    }\n",
       "\n",
       "    .dataframe thead th {\n",
       "        text-align: right;\n",
       "    }\n",
       "</style>\n",
       "<table border=\"1\" class=\"dataframe\">\n",
       "  <thead>\n",
       "    <tr style=\"text-align: right;\">\n",
       "      <th></th>\n",
       "      <th>SeniorCitizen</th>\n",
       "      <th>tenure</th>\n",
       "      <th>MonthlyCharges</th>\n",
       "      <th>TotalCharges</th>\n",
       "    </tr>\n",
       "  </thead>\n",
       "  <tbody>\n",
       "    <tr>\n",
       "      <th>count</th>\n",
       "      <td>7032.000000</td>\n",
       "      <td>7032.000000</td>\n",
       "      <td>7032.000000</td>\n",
       "      <td>7032.000000</td>\n",
       "    </tr>\n",
       "    <tr>\n",
       "      <th>mean</th>\n",
       "      <td>0.162400</td>\n",
       "      <td>32.421786</td>\n",
       "      <td>64.798208</td>\n",
       "      <td>2283.300441</td>\n",
       "    </tr>\n",
       "    <tr>\n",
       "      <th>std</th>\n",
       "      <td>0.368844</td>\n",
       "      <td>24.545260</td>\n",
       "      <td>30.085974</td>\n",
       "      <td>2266.771362</td>\n",
       "    </tr>\n",
       "    <tr>\n",
       "      <th>min</th>\n",
       "      <td>0.000000</td>\n",
       "      <td>1.000000</td>\n",
       "      <td>18.250000</td>\n",
       "      <td>18.800000</td>\n",
       "    </tr>\n",
       "    <tr>\n",
       "      <th>25%</th>\n",
       "      <td>0.000000</td>\n",
       "      <td>9.000000</td>\n",
       "      <td>35.587500</td>\n",
       "      <td>401.450000</td>\n",
       "    </tr>\n",
       "    <tr>\n",
       "      <th>50%</th>\n",
       "      <td>0.000000</td>\n",
       "      <td>29.000000</td>\n",
       "      <td>70.350000</td>\n",
       "      <td>1397.475000</td>\n",
       "    </tr>\n",
       "    <tr>\n",
       "      <th>75%</th>\n",
       "      <td>0.000000</td>\n",
       "      <td>55.000000</td>\n",
       "      <td>89.862500</td>\n",
       "      <td>3794.737500</td>\n",
       "    </tr>\n",
       "    <tr>\n",
       "      <th>max</th>\n",
       "      <td>1.000000</td>\n",
       "      <td>72.000000</td>\n",
       "      <td>118.750000</td>\n",
       "      <td>8684.800000</td>\n",
       "    </tr>\n",
       "  </tbody>\n",
       "</table>\n",
       "</div>"
      ],
      "text/plain": [
       "       SeniorCitizen       tenure  MonthlyCharges  TotalCharges\n",
       "count    7032.000000  7032.000000     7032.000000   7032.000000\n",
       "mean        0.162400    32.421786       64.798208   2283.300441\n",
       "std         0.368844    24.545260       30.085974   2266.771362\n",
       "min         0.000000     1.000000       18.250000     18.800000\n",
       "25%         0.000000     9.000000       35.587500    401.450000\n",
       "50%         0.000000    29.000000       70.350000   1397.475000\n",
       "75%         0.000000    55.000000       89.862500   3794.737500\n",
       "max         1.000000    72.000000      118.750000   8684.800000"
      ]
     },
     "execution_count": 5,
     "metadata": {},
     "output_type": "execute_result"
    }
   ],
   "source": [
    "df.describe()"
   ]
  },
  {
   "cell_type": "markdown",
   "id": "09cf9f5c",
   "metadata": {
    "papermill": {
     "duration": 0.007016,
     "end_time": "2025-07-15T12:47:22.262745",
     "exception": false,
     "start_time": "2025-07-15T12:47:22.255729",
     "status": "completed"
    },
    "tags": []
   },
   "source": [
    "## 📊 Summary Statistics\n",
    "\n",
    "- `SeniorCitizen` is binary (0 = not senior, 1 = senior)\n",
    "- `tenure` ranges from 1 to 72 months\n",
    "- `MonthlyCharges` range from \\$18.25 to \\$118.75\n",
    "- `TotalCharges` correlates with `tenure` × `MonthlyCharges`\n",
    "\n",
    "The typical customer has been with the company **~32 months**, pays around **\\$65/month**, and has spent about **\\$2,200** in total.\n"
   ]
  },
  {
   "cell_type": "markdown",
   "id": "55a97290",
   "metadata": {
    "papermill": {
     "duration": 0.006897,
     "end_time": "2025-07-15T12:47:22.276699",
     "exception": false,
     "start_time": "2025-07-15T12:47:22.269802",
     "status": "completed"
    },
    "tags": []
   },
   "source": [
    "## Missing values check\n",
    "We ensure there are no remaining missing values before proceeding.\n"
   ]
  },
  {
   "cell_type": "code",
   "execution_count": 6,
   "id": "979db17d",
   "metadata": {
    "execution": {
     "iopub.execute_input": "2025-07-15T12:47:22.292347Z",
     "iopub.status.busy": "2025-07-15T12:47:22.292022Z",
     "iopub.status.idle": "2025-07-15T12:47:22.309916Z",
     "shell.execute_reply": "2025-07-15T12:47:22.309098Z"
    },
    "papermill": {
     "duration": 0.02773,
     "end_time": "2025-07-15T12:47:22.311481",
     "exception": false,
     "start_time": "2025-07-15T12:47:22.283751",
     "status": "completed"
    },
    "tags": []
   },
   "outputs": [
    {
     "data": {
      "text/plain": [
       "customerID          0\n",
       "gender              0\n",
       "SeniorCitizen       0\n",
       "Partner             0\n",
       "Dependents          0\n",
       "tenure              0\n",
       "PhoneService        0\n",
       "MultipleLines       0\n",
       "InternetService     0\n",
       "OnlineSecurity      0\n",
       "OnlineBackup        0\n",
       "DeviceProtection    0\n",
       "TechSupport         0\n",
       "StreamingTV         0\n",
       "StreamingMovies     0\n",
       "Contract            0\n",
       "PaperlessBilling    0\n",
       "PaymentMethod       0\n",
       "MonthlyCharges      0\n",
       "TotalCharges        0\n",
       "Churn               0\n",
       "dtype: int64"
      ]
     },
     "execution_count": 6,
     "metadata": {},
     "output_type": "execute_result"
    }
   ],
   "source": [
    "df.isna().sum()"
   ]
  },
  {
   "cell_type": "markdown",
   "id": "ea1945e9",
   "metadata": {
    "papermill": {
     "duration": 0.007811,
     "end_time": "2025-07-15T12:47:22.326704",
     "exception": false,
     "start_time": "2025-07-15T12:47:22.318893",
     "status": "completed"
    },
    "tags": []
   },
   "source": [
    " <u>No missing values detected. Dataset is ready for EDA. </u>"
   ]
  },
  {
   "cell_type": "markdown",
   "id": "d5368ebf",
   "metadata": {
    "papermill": {
     "duration": 0.007192,
     "end_time": "2025-07-15T12:47:22.341045",
     "exception": false,
     "start_time": "2025-07-15T12:47:22.333853",
     "status": "completed"
    },
    "tags": []
   },
   "source": [
    "## 🎯 Target Variable Distribution\n",
    "\n",
    "Let's check the balance of our target variable: **Churn**.\n"
   ]
  },
  {
   "cell_type": "code",
   "execution_count": 7,
   "id": "74b162cb",
   "metadata": {
    "execution": {
     "iopub.execute_input": "2025-07-15T12:47:22.356957Z",
     "iopub.status.busy": "2025-07-15T12:47:22.356602Z",
     "iopub.status.idle": "2025-07-15T12:47:22.364775Z",
     "shell.execute_reply": "2025-07-15T12:47:22.364026Z"
    },
    "papermill": {
     "duration": 0.017941,
     "end_time": "2025-07-15T12:47:22.366234",
     "exception": false,
     "start_time": "2025-07-15T12:47:22.348293",
     "status": "completed"
    },
    "tags": []
   },
   "outputs": [
    {
     "data": {
      "text/plain": [
       "Churn\n",
       "No     5163\n",
       "Yes    1869\n",
       "Name: count, dtype: int64"
      ]
     },
     "execution_count": 7,
     "metadata": {},
     "output_type": "execute_result"
    }
   ],
   "source": [
    "df['Churn'].value_counts()"
   ]
  },
  {
   "cell_type": "markdown",
   "id": "4ea122bf",
   "metadata": {
    "papermill": {
     "duration": 0.007259,
     "end_time": "2025-07-15T12:47:22.380946",
     "exception": false,
     "start_time": "2025-07-15T12:47:22.373687",
     "status": "completed"
    },
    "tags": []
   },
   "source": [
    "We have:\n",
    "- `No` churn: 5,174 customers\n",
    "- `Yes` churn: 1,869 customers\n",
    "\n",
    "That’s ~26.6% churn rate, indicating a **moderately imbalanced dataset**.\n",
    "We'll keep this in mind during model training and evaluation.\n"
   ]
  },
  {
   "cell_type": "markdown",
   "id": "d34d0361",
   "metadata": {
    "papermill": {
     "duration": 0.007779,
     "end_time": "2025-07-15T12:47:22.396374",
     "exception": false,
     "start_time": "2025-07-15T12:47:22.388595",
     "status": "completed"
    },
    "tags": []
   },
   "source": [
    "## Churn by Gender\n",
    "\n",
    "Let's examine the distribution of churn by gender.\n"
   ]
  },
  {
   "cell_type": "code",
   "execution_count": 8,
   "id": "11f9b191",
   "metadata": {
    "execution": {
     "iopub.execute_input": "2025-07-15T12:47:22.412623Z",
     "iopub.status.busy": "2025-07-15T12:47:22.412304Z",
     "iopub.status.idle": "2025-07-15T12:47:22.439415Z",
     "shell.execute_reply": "2025-07-15T12:47:22.438487Z"
    },
    "papermill": {
     "duration": 0.0372,
     "end_time": "2025-07-15T12:47:22.441053",
     "exception": false,
     "start_time": "2025-07-15T12:47:22.403853",
     "status": "completed"
    },
    "tags": []
   },
   "outputs": [
    {
     "data": {
      "text/html": [
       "<div>\n",
       "<style scoped>\n",
       "    .dataframe tbody tr th:only-of-type {\n",
       "        vertical-align: middle;\n",
       "    }\n",
       "\n",
       "    .dataframe tbody tr th {\n",
       "        vertical-align: top;\n",
       "    }\n",
       "\n",
       "    .dataframe thead th {\n",
       "        text-align: right;\n",
       "    }\n",
       "</style>\n",
       "<table border=\"1\" class=\"dataframe\">\n",
       "  <thead>\n",
       "    <tr style=\"text-align: right;\">\n",
       "      <th>gender</th>\n",
       "      <th>Female</th>\n",
       "      <th>Male</th>\n",
       "    </tr>\n",
       "    <tr>\n",
       "      <th>Churn</th>\n",
       "      <th></th>\n",
       "      <th></th>\n",
       "    </tr>\n",
       "  </thead>\n",
       "  <tbody>\n",
       "    <tr>\n",
       "      <th>No</th>\n",
       "      <td>2544</td>\n",
       "      <td>2619</td>\n",
       "    </tr>\n",
       "    <tr>\n",
       "      <th>Yes</th>\n",
       "      <td>939</td>\n",
       "      <td>930</td>\n",
       "    </tr>\n",
       "  </tbody>\n",
       "</table>\n",
       "</div>"
      ],
      "text/plain": [
       "gender  Female  Male\n",
       "Churn               \n",
       "No        2544  2619\n",
       "Yes        939   930"
      ]
     },
     "execution_count": 8,
     "metadata": {},
     "output_type": "execute_result"
    }
   ],
   "source": [
    "df[['Churn', 'gender']].value_counts().unstack()"
   ]
  },
  {
   "cell_type": "code",
   "execution_count": 9,
   "id": "6106cb6c",
   "metadata": {
    "execution": {
     "iopub.execute_input": "2025-07-15T12:47:22.458163Z",
     "iopub.status.busy": "2025-07-15T12:47:22.457794Z",
     "iopub.status.idle": "2025-07-15T12:47:22.914688Z",
     "shell.execute_reply": "2025-07-15T12:47:22.913862Z"
    },
    "papermill": {
     "duration": 0.467627,
     "end_time": "2025-07-15T12:47:22.916448",
     "exception": false,
     "start_time": "2025-07-15T12:47:22.448821",
     "status": "completed"
    },
    "tags": []
   },
   "outputs": [
    {
     "data": {
      "image/png": "[encoded data removed]",
      "text/plain": [
       "<Figure size 1200x600 with 1 Axes>"
      ]
     },
     "metadata": {},
     "output_type": "display_data"
    }
   ],
   "source": [
    "plt.figure(figsize=(12, 6))\n",
    "sns.countplot(x='Churn', hue='gender', data=df)\n",
    "plt.title('Customer Churn by Gender', fontsize=16, fontweight='bold')\n",
    "plt.xlabel('Churn')\n",
    "plt.ylabel('Number of Customers')\n",
    "plt.legend(title='Gender')\n",
    "plt.tight_layout()\n",
    "plt.show()\n"
   ]
  },
  {
   "cell_type": "markdown",
   "id": "12bfc13a",
   "metadata": {
    "papermill": {
     "duration": 0.009008,
     "end_time": "2025-07-15T12:47:22.934116",
     "exception": false,
     "start_time": "2025-07-15T12:47:22.925108",
     "status": "completed"
    },
    "tags": []
   },
   "source": [
    "**Observation**:\n",
    "- Churn rate fairly similar between genders.\n",
    "- Therefore, gender alone may not be a strong predictor of churn.\n"
   ]
  },
  {
   "cell_type": "markdown",
   "id": "a8d7f666",
   "metadata": {
    "papermill": {
     "duration": 0.00795,
     "end_time": "2025-07-15T12:47:22.950448",
     "exception": false,
     "start_time": "2025-07-15T12:47:22.942498",
     "status": "completed"
    },
    "tags": []
   },
   "source": [
    "## 📦 Churn Rate by Contract Type and Gender\n",
    "\n",
    "Let's see how churn rate varies based on the contract customers have.\n"
   ]
  },
  {
   "cell_type": "code",
   "execution_count": 10,
   "id": "ebf44a50",
   "metadata": {
    "execution": {
     "iopub.execute_input": "2025-07-15T12:47:23.035124Z",
     "iopub.status.busy": "2025-07-15T12:47:23.034757Z",
     "iopub.status.idle": "2025-07-15T12:47:23.047278Z",
     "shell.execute_reply": "2025-07-15T12:47:23.046430Z"
    },
    "papermill": {
     "duration": 0.023199,
     "end_time": "2025-07-15T12:47:23.048654",
     "exception": false,
     "start_time": "2025-07-15T12:47:23.025455",
     "status": "completed"
    },
    "tags": []
   },
   "outputs": [
    {
     "data": {
      "text/html": [
       "<div>\n",
       "<style scoped>\n",
       "    .dataframe tbody tr th:only-of-type {\n",
       "        vertical-align: middle;\n",
       "    }\n",
       "\n",
       "    .dataframe tbody tr th {\n",
       "        vertical-align: top;\n",
       "    }\n",
       "\n",
       "    .dataframe thead th {\n",
       "        text-align: right;\n",
       "    }\n",
       "</style>\n",
       "<table border=\"1\" class=\"dataframe\">\n",
       "  <thead>\n",
       "    <tr style=\"text-align: right;\">\n",
       "      <th>gender</th>\n",
       "      <th>Female</th>\n",
       "      <th>Male</th>\n",
       "    </tr>\n",
       "    <tr>\n",
       "      <th>Contract</th>\n",
       "      <th></th>\n",
       "      <th></th>\n",
       "    </tr>\n",
       "  </thead>\n",
       "  <tbody>\n",
       "    <tr>\n",
       "      <th>Month-to-month</th>\n",
       "      <td>1925</td>\n",
       "      <td>1950</td>\n",
       "    </tr>\n",
       "    <tr>\n",
       "      <th>One year</th>\n",
       "      <td>718</td>\n",
       "      <td>754</td>\n",
       "    </tr>\n",
       "    <tr>\n",
       "      <th>Two year</th>\n",
       "      <td>840</td>\n",
       "      <td>845</td>\n",
       "    </tr>\n",
       "  </tbody>\n",
       "</table>\n",
       "</div>"
      ],
      "text/plain": [
       "gender          Female  Male\n",
       "Contract                    \n",
       "Month-to-month    1925  1950\n",
       "One year           718   754\n",
       "Two year           840   845"
      ]
     },
     "execution_count": 10,
     "metadata": {},
     "output_type": "execute_result"
    }
   ],
   "source": [
    "df[['Contract', 'gender']].value_counts().unstack()"
   ]
  },
  {
   "cell_type": "code",
   "execution_count": 11,
   "id": "b5fca667",
   "metadata": {
    "execution": {
     "iopub.execute_input": "2025-07-15T12:47:23.066586Z",
     "iopub.status.busy": "2025-07-15T12:47:23.066273Z",
     "iopub.status.idle": "2025-07-15T12:47:23.472942Z",
     "shell.execute_reply": "2025-07-15T12:47:23.471879Z"
    },
    "papermill": {
     "duration": 0.417726,
     "end_time": "2025-07-15T12:47:23.474784",
     "exception": false,
     "start_time": "2025-07-15T12:47:23.057058",
     "status": "completed"
    },
    "tags": []
   },
   "outputs": [
    {
     "data": {
      "image/png": "[encoded data removed]",
      "text/plain": [
       "<Figure size 1200x600 with 1 Axes>"
      ]
     },
     "metadata": {},
     "output_type": "display_data"
    }
   ],
   "source": [
    "df_plot = df.copy()\n",
    " \n",
    "df_plot['Churn'] = df_plot['Churn'].map({'Yes': 1, 'No': 0})\n",
    "plt.figure(figsize=(12, 6))\n",
    "sns.barplot(x='Contract', y='Churn', hue='gender', data=df_plot)\n",
    "plt.ylabel('Churn Rate')\n",
    "plt.xlabel('Contract Type')\n",
    "plt.legend(title='Gender')\n",
    "plt.tight_layout()\n",
    "plt.show()"
   ]
  },
  {
   "cell_type": "markdown",
   "id": "3bf5c630",
   "metadata": {
    "papermill": {
     "duration": 0.00851,
     "end_time": "2025-07-15T12:47:23.496680",
     "exception": false,
     "start_time": "2025-07-15T12:47:23.488170",
     "status": "completed"
    },
    "tags": []
   },
   "source": [
    "💡 **Insight**:\n",
    "- Customers with **month-to-month contracts** have much higher churn rates.\n",
    "- **Longer-term contracts (1 or 2 years)** reduce churn significantly.\n",
    "- This suggests that contract length could be a strong retention lever.\n"
   ]
  },
  {
   "cell_type": "markdown",
   "id": "f8bab281",
   "metadata": {
    "papermill": {
     "duration": 0.008605,
     "end_time": "2025-07-15T12:47:23.514046",
     "exception": false,
     "start_time": "2025-07-15T12:47:23.505441",
     "status": "completed"
    },
    "tags": []
   },
   "source": [
    "## Tenure vs Churn\n",
    "\n",
    "How long customers have been with the company also likely impacts churn.\n"
   ]
  },
  {
   "cell_type": "code",
   "execution_count": 12,
   "id": "6690ba42",
   "metadata": {
    "execution": {
     "iopub.execute_input": "2025-07-15T12:47:23.533621Z",
     "iopub.status.busy": "2025-07-15T12:47:23.532901Z",
     "iopub.status.idle": "2025-07-15T12:47:23.546515Z",
     "shell.execute_reply": "2025-07-15T12:47:23.545571Z"
    },
    "papermill": {
     "duration": 0.025253,
     "end_time": "2025-07-15T12:47:23.548204",
     "exception": false,
     "start_time": "2025-07-15T12:47:23.522951",
     "status": "completed"
    },
    "tags": []
   },
   "outputs": [
    {
     "data": {
      "text/html": [
       "<div>\n",
       "<style scoped>\n",
       "    .dataframe tbody tr th:only-of-type {\n",
       "        vertical-align: middle;\n",
       "    }\n",
       "\n",
       "    .dataframe tbody tr th {\n",
       "        vertical-align: top;\n",
       "    }\n",
       "\n",
       "    .dataframe thead th {\n",
       "        text-align: right;\n",
       "    }\n",
       "</style>\n",
       "<table border=\"1\" class=\"dataframe\">\n",
       "  <thead>\n",
       "    <tr style=\"text-align: right;\">\n",
       "      <th>Churn</th>\n",
       "      <th>No</th>\n",
       "      <th>Yes</th>\n",
       "    </tr>\n",
       "    <tr>\n",
       "      <th>tenure</th>\n",
       "      <th></th>\n",
       "      <th></th>\n",
       "    </tr>\n",
       "  </thead>\n",
       "  <tbody>\n",
       "    <tr>\n",
       "      <th>1</th>\n",
       "      <td>233</td>\n",
       "      <td>380</td>\n",
       "    </tr>\n",
       "    <tr>\n",
       "      <th>2</th>\n",
       "      <td>115</td>\n",
       "      <td>123</td>\n",
       "    </tr>\n",
       "    <tr>\n",
       "      <th>3</th>\n",
       "      <td>106</td>\n",
       "      <td>94</td>\n",
       "    </tr>\n",
       "    <tr>\n",
       "      <th>4</th>\n",
       "      <td>93</td>\n",
       "      <td>83</td>\n",
       "    </tr>\n",
       "    <tr>\n",
       "      <th>5</th>\n",
       "      <td>69</td>\n",
       "      <td>64</td>\n",
       "    </tr>\n",
       "  </tbody>\n",
       "</table>\n",
       "</div>"
      ],
      "text/plain": [
       "Churn    No  Yes\n",
       "tenure          \n",
       "1       233  380\n",
       "2       115  123\n",
       "3       106   94\n",
       "4        93   83\n",
       "5        69   64"
      ]
     },
     "execution_count": 12,
     "metadata": {},
     "output_type": "execute_result"
    }
   ],
   "source": [
    "df[['tenure', 'Churn']].value_counts().unstack().head(5)\n"
   ]
  },
  {
   "cell_type": "code",
   "execution_count": 13,
   "id": "23a08fcd",
   "metadata": {
    "execution": {
     "iopub.execute_input": "2025-07-15T12:47:23.567664Z",
     "iopub.status.busy": "2025-07-15T12:47:23.567359Z",
     "iopub.status.idle": "2025-07-15T12:47:23.845462Z",
     "shell.execute_reply": "2025-07-15T12:47:23.844438Z"
    },
    "papermill": {
     "duration": 0.289858,
     "end_time": "2025-07-15T12:47:23.847272",
     "exception": false,
     "start_time": "2025-07-15T12:47:23.557414",
     "status": "completed"
    },
    "tags": []
   },
   "outputs": [
    {
     "data": {
      "image/png": "[encoded data removed]",
      "text/plain": [
       "<Figure size 1200x600 with 1 Axes>"
      ]
     },
     "metadata": {},
     "output_type": "display_data"
    }
   ],
   "source": [
    "plt.figure(figsize=(12, 6))\n",
    "sns.boxplot(x='Churn', y='tenure', hue='Churn', data=df, palette=[\"#f7cac9\", \"#a8c3a0\"])\n",
    "plt.title('Tenure Distribution by Churn Status', fontsize=16, fontweight='bold')\n",
    "plt.xlabel('Churn')\n",
    "plt.ylabel('Tenure (Months)')\n",
    "plt.tight_layout()\n",
    "plt.show()\n"
   ]
  },
  {
   "cell_type": "markdown",
   "id": "a74d9c9e",
   "metadata": {
    "papermill": {
     "duration": 0.01062,
     "end_time": "2025-07-15T12:47:23.868559",
     "exception": false,
     "start_time": "2025-07-15T12:47:23.857939",
     "status": "completed"
    },
    "tags": []
   },
   "source": [
    "💡 **Insight**:\n",
    "- Churning customers tend to have **much shorter tenures**.\n",
    "- Those who stay beyond the first ~12 months are less likely to churn.\n"
   ]
  },
  {
   "cell_type": "markdown",
   "id": "274c09b6",
   "metadata": {
    "papermill": {
     "duration": 0.010354,
     "end_time": "2025-07-15T12:47:23.889580",
     "exception": false,
     "start_time": "2025-07-15T12:47:23.879226",
     "status": "completed"
    },
    "tags": []
   },
   "source": [
    "## 💰 Monthly Charges vs Churn\n",
    "\n",
    "Is there a link between how much a customer pays and their likelihood to churn?\n"
   ]
  },
  {
   "cell_type": "code",
   "execution_count": 14,
   "id": "63e6f438",
   "metadata": {
    "execution": {
     "iopub.execute_input": "2025-07-15T12:47:23.913169Z",
     "iopub.status.busy": "2025-07-15T12:47:23.912790Z",
     "iopub.status.idle": "2025-07-15T12:47:23.933411Z",
     "shell.execute_reply": "2025-07-15T12:47:23.932534Z"
    },
    "papermill": {
     "duration": 0.034387,
     "end_time": "2025-07-15T12:47:23.935000",
     "exception": false,
     "start_time": "2025-07-15T12:47:23.900613",
     "status": "completed"
    },
    "tags": []
   },
   "outputs": [
    {
     "name": "stderr",
     "output_type": "stream",
     "text": [
      "/usr/local/lib/python3.11/dist-packages/pandas/io/formats/format.py:1458: RuntimeWarning: invalid value encountered in greater\n",
      "  has_large_values = (abs_vals > 1e6).any()\n",
      "/usr/local/lib/python3.11/dist-packages/pandas/io/formats/format.py:1459: RuntimeWarning: invalid value encountered in less\n",
      "  has_small_values = ((abs_vals < 10 ** (-self.digits)) & (abs_vals > 0)).any()\n",
      "/usr/local/lib/python3.11/dist-packages/pandas/io/formats/format.py:1459: RuntimeWarning: invalid value encountered in greater\n",
      "  has_small_values = ((abs_vals < 10 ** (-self.digits)) & (abs_vals > 0)).any()\n"
     ]
    },
    {
     "data": {
      "text/html": [
       "<div>\n",
       "<style scoped>\n",
       "    .dataframe tbody tr th:only-of-type {\n",
       "        vertical-align: middle;\n",
       "    }\n",
       "\n",
       "    .dataframe tbody tr th {\n",
       "        vertical-align: top;\n",
       "    }\n",
       "\n",
       "    .dataframe thead th {\n",
       "        text-align: right;\n",
       "    }\n",
       "</style>\n",
       "<table border=\"1\" class=\"dataframe\">\n",
       "  <thead>\n",
       "    <tr style=\"text-align: right;\">\n",
       "      <th>Churn</th>\n",
       "      <th>No</th>\n",
       "      <th>Yes</th>\n",
       "    </tr>\n",
       "    <tr>\n",
       "      <th>MonthlyCharges</th>\n",
       "      <th></th>\n",
       "      <th></th>\n",
       "    </tr>\n",
       "  </thead>\n",
       "  <tbody>\n",
       "    <tr>\n",
       "      <th>18.25</th>\n",
       "      <td>1.0</td>\n",
       "      <td>NaN</td>\n",
       "    </tr>\n",
       "    <tr>\n",
       "      <th>18.40</th>\n",
       "      <td>1.0</td>\n",
       "      <td>NaN</td>\n",
       "    </tr>\n",
       "    <tr>\n",
       "      <th>18.55</th>\n",
       "      <td>1.0</td>\n",
       "      <td>NaN</td>\n",
       "    </tr>\n",
       "    <tr>\n",
       "      <th>18.70</th>\n",
       "      <td>2.0</td>\n",
       "      <td>NaN</td>\n",
       "    </tr>\n",
       "    <tr>\n",
       "      <th>18.75</th>\n",
       "      <td>1.0</td>\n",
       "      <td>NaN</td>\n",
       "    </tr>\n",
       "  </tbody>\n",
       "</table>\n",
       "</div>"
      ],
      "text/plain": [
       "Churn            No  Yes\n",
       "MonthlyCharges          \n",
       "18.25           1.0  NaN\n",
       "18.40           1.0  NaN\n",
       "18.55           1.0  NaN\n",
       "18.70           2.0  NaN\n",
       "18.75           1.0  NaN"
      ]
     },
     "execution_count": 14,
     "metadata": {},
     "output_type": "execute_result"
    }
   ],
   "source": [
    "df[['MonthlyCharges', 'Churn']].value_counts().unstack().head(5)\n"
   ]
  },
  {
   "cell_type": "code",
   "execution_count": 15,
   "id": "8764473f",
   "metadata": {
    "execution": {
     "iopub.execute_input": "2025-07-15T12:47:23.960079Z",
     "iopub.status.busy": "2025-07-15T12:47:23.959726Z",
     "iopub.status.idle": "2025-07-15T12:47:24.222448Z",
     "shell.execute_reply": "2025-07-15T12:47:24.220197Z"
    },
    "papermill": {
     "duration": 0.277401,
     "end_time": "2025-07-15T12:47:24.224214",
     "exception": false,
     "start_time": "2025-07-15T12:47:23.946813",
     "status": "completed"
    },
    "tags": []
   },
   "outputs": [
    {
     "data": {
      "image/png": "[encoded data removed]",
      "text/plain": [
       "<Figure size 1200x600 with 1 Axes>"
      ]
     },
     "metadata": {},
     "output_type": "display_data"
    }
   ],
   "source": [
    "plt.figure(figsize=(12, 6))\n",
    "sns.boxplot(x='Churn', y='MonthlyCharges', hue='Churn', data=df, palette=[\"#f7cac9\", \"#a8c3a0\"])\n",
    "plt.title('Monthly Charges by Churn Status', fontsize=16, fontweight='bold')\n",
    "plt.xlabel('Churn')\n",
    "plt.ylabel('Monthly Charges ($)')\n",
    "plt.tight_layout()\n",
    "plt.show()\n"
   ]
  },
  {
   "cell_type": "markdown",
   "id": "5e9d7848",
   "metadata": {
    "papermill": {
     "duration": 0.012777,
     "end_time": "2025-07-15T12:47:24.249597",
     "exception": false,
     "start_time": "2025-07-15T12:47:24.236820",
     "status": "completed"
    },
    "tags": []
   },
   "source": [
    "💡 **Insight**:\n",
    "- Customers who churn tend to pay **higher monthly charges**.\n",
    "- It’s possible that expensive plans lead to dissatisfaction, or are harder to justify.\n"
   ]
  },
  {
   "cell_type": "markdown",
   "id": "66904e5b",
   "metadata": {
    "papermill": {
     "duration": 0.01118,
     "end_time": "2025-07-15T12:47:24.272310",
     "exception": false,
     "start_time": "2025-07-15T12:47:24.261130",
     "status": "completed"
    },
    "tags": []
   },
   "source": [
    "## Payment Method Distribution by Gender\n",
    "\n",
    "Which payment methods are preferred by each gender?\n"
   ]
  },
  {
   "cell_type": "code",
   "execution_count": 16,
   "id": "e4ea7c55",
   "metadata": {
    "execution": {
     "iopub.execute_input": "2025-07-15T12:47:24.295729Z",
     "iopub.status.busy": "2025-07-15T12:47:24.295416Z",
     "iopub.status.idle": "2025-07-15T12:47:24.308797Z",
     "shell.execute_reply": "2025-07-15T12:47:24.307802Z"
    },
    "papermill": {
     "duration": 0.027127,
     "end_time": "2025-07-15T12:47:24.310543",
     "exception": false,
     "start_time": "2025-07-15T12:47:24.283416",
     "status": "completed"
    },
    "tags": []
   },
   "outputs": [
    {
     "data": {
      "text/html": [
       "<div>\n",
       "<style scoped>\n",
       "    .dataframe tbody tr th:only-of-type {\n",
       "        vertical-align: middle;\n",
       "    }\n",
       "\n",
       "    .dataframe tbody tr th {\n",
       "        vertical-align: top;\n",
       "    }\n",
       "\n",
       "    .dataframe thead th {\n",
       "        text-align: right;\n",
       "    }\n",
       "</style>\n",
       "<table border=\"1\" class=\"dataframe\">\n",
       "  <thead>\n",
       "    <tr style=\"text-align: right;\">\n",
       "      <th>gender</th>\n",
       "      <th>Female</th>\n",
       "      <th>Male</th>\n",
       "    </tr>\n",
       "    <tr>\n",
       "      <th>PaymentMethod</th>\n",
       "      <th></th>\n",
       "      <th></th>\n",
       "    </tr>\n",
       "  </thead>\n",
       "  <tbody>\n",
       "    <tr>\n",
       "      <th>Bank transfer (automatic)</th>\n",
       "      <td>787</td>\n",
       "      <td>755</td>\n",
       "    </tr>\n",
       "    <tr>\n",
       "      <th>Credit card (automatic)</th>\n",
       "      <td>751</td>\n",
       "      <td>770</td>\n",
       "    </tr>\n",
       "    <tr>\n",
       "      <th>Electronic check</th>\n",
       "      <td>1170</td>\n",
       "      <td>1195</td>\n",
       "    </tr>\n",
       "    <tr>\n",
       "      <th>Mailed check</th>\n",
       "      <td>775</td>\n",
       "      <td>829</td>\n",
       "    </tr>\n",
       "  </tbody>\n",
       "</table>\n",
       "</div>"
      ],
      "text/plain": [
       "gender                     Female  Male\n",
       "PaymentMethod                          \n",
       "Bank transfer (automatic)     787   755\n",
       "Credit card (automatic)       751   770\n",
       "Electronic check             1170  1195\n",
       "Mailed check                  775   829"
      ]
     },
     "execution_count": 16,
     "metadata": {},
     "output_type": "execute_result"
    }
   ],
   "source": [
    "df[['PaymentMethod', 'gender']].value_counts().unstack()\n"
   ]
  },
  {
   "cell_type": "code",
   "execution_count": 17,
   "id": "634a320d",
   "metadata": {
    "execution": {
     "iopub.execute_input": "2025-07-15T12:47:24.336018Z",
     "iopub.status.busy": "2025-07-15T12:47:24.335659Z",
     "iopub.status.idle": "2025-07-15T12:47:24.687080Z",
     "shell.execute_reply": "2025-07-15T12:47:24.686171Z"
    },
    "papermill": {
     "duration": 0.365885,
     "end_time": "2025-07-15T12:47:24.688699",
     "exception": false,
     "start_time": "2025-07-15T12:47:24.322814",
     "status": "completed"
    },
    "tags": []
   },
   "outputs": [
    {
     "data": {
      "image/png": "[encoded data removed]",
      "text/plain": [
       "<Figure size 1200x600 with 1 Axes>"
      ]
     },
     "metadata": {},
     "output_type": "display_data"
    }
   ],
   "source": [
    "pd.crosstab(df['PaymentMethod'], df['gender']).plot(kind='bar', stacked=True, figsize=(12,6))\n",
    "plt.title('Payment Method by Gender', fontsize=16, fontweight='bold')\n",
    "plt.xlabel('Payment Method')\n",
    "plt.ylabel('Number of Customers')\n",
    "plt.xticks(rotation=0)\n",
    "plt.legend(title='Gender')\n",
    "plt.tight_layout()\n",
    "plt.show()\n"
   ]
  },
  {
   "cell_type": "markdown",
   "id": "9766f5da",
   "metadata": {
    "papermill": {
     "duration": 0.012275,
     "end_time": "2025-07-15T12:47:24.714996",
     "exception": false,
     "start_time": "2025-07-15T12:47:24.702721",
     "status": "completed"
    },
    "tags": []
   },
   "source": [
    "##  Summary of Key Insights\n",
    "\n",
    "- **Contract type** has a strong relationship with churn - shorter contracts result in more churn.\n",
    "- **Shorter tenures** and **higher monthly charges** are associated with higher churn.\n",
    "- **Gender** appears to have little influence on churn directly.\n",
    "- **Payment method** preferences vary by gender, but impact on churn is less obvious.\n",
    "\n"
   ]
  },
  {
   "cell_type": "markdown",
   "id": "073db801",
   "metadata": {
    "papermill": {
     "duration": 0.012317,
     "end_time": "2025-07-15T12:47:24.739883",
     "exception": false,
     "start_time": "2025-07-15T12:47:24.727566",
     "status": "completed"
    },
    "tags": []
   },
   "source": [
    "<u>Next step: Feature engineering and model training. </u>\n"
   ]
  },
  {
   "cell_type": "markdown",
   "id": "9f855af1",
   "metadata": {
    "papermill": {
     "duration": 0.013706,
     "end_time": "2025-07-15T12:47:24.766112",
     "exception": false,
     "start_time": "2025-07-15T12:47:24.752406",
     "status": "completed"
    },
    "tags": []
   },
   "source": [
    "---\n",
    "\n",
    "## Feature Engineering and Model Training\n",
    "\n",
    "Now that we've explored the dataset and understood the key drivers of churn, it's time to build machine learning models.\n",
    "\n",
    "We'll start by preprocessing the data:  \n",
    "- dropping irrelevant columns  \n",
    "- encoding categorical features  \n",
    "- scaling numeric features  \n",
    "- building sklearn Pipelines  \n",
    "- training 3 classifiers: Logistic Regression, Random Forest, XGBoost  \n",
    "- evaluating models using accuracy, ROC AUC, and confusion matrix  \n"
   ]
  },
  {
   "cell_type": "code",
   "execution_count": 18,
   "id": "b13dedae",
   "metadata": {
    "execution": {
     "iopub.execute_input": "2025-07-15T12:47:24.793740Z",
     "iopub.status.busy": "2025-07-15T12:47:24.792846Z",
     "iopub.status.idle": "2025-07-15T12:47:26.114563Z",
     "shell.execute_reply": "2025-07-15T12:47:26.113563Z"
    },
    "papermill": {
     "duration": 1.337576,
     "end_time": "2025-07-15T12:47:26.116406",
     "exception": false,
     "start_time": "2025-07-15T12:47:24.778830",
     "status": "completed"
    },
    "tags": []
   },
   "outputs": [],
   "source": [
    "import pandas as pd\n",
    "import numpy as np\n",
    "import matplotlib.pyplot as plt\n",
    "import seaborn as sns\n",
    "\n",
    "from sklearn.preprocessing import StandardScaler, OneHotEncoder\n",
    "from sklearn.compose import ColumnTransformer\n",
    "from sklearn.model_selection import train_test_split\n",
    "from sklearn.pipeline import Pipeline\n",
    "from sklearn.impute import SimpleImputer\n",
    "from sklearn.ensemble import RandomForestClassifier\n",
    "from sklearn.linear_model import LogisticRegression\n",
    "from xgboost import XGBClassifier\n",
    "from sklearn.metrics import accuracy_score, confusion_matrix, roc_auc_score, roc_curve, classification_report\n",
    "\n",
    "import json"
   ]
  },
  {
   "cell_type": "markdown",
   "id": "7c029c90",
   "metadata": {
    "papermill": {
     "duration": 0.012249,
     "end_time": "2025-07-15T12:47:26.141758",
     "exception": false,
     "start_time": "2025-07-15T12:47:26.129509",
     "status": "completed"
    },
    "tags": []
   },
   "source": [
    "**Preprocessing**"
   ]
  },
  {
   "cell_type": "code",
   "execution_count": 19,
   "id": "b0ce9bdc",
   "metadata": {
    "execution": {
     "iopub.execute_input": "2025-07-15T12:47:26.168618Z",
     "iopub.status.busy": "2025-07-15T12:47:26.168264Z",
     "iopub.status.idle": "2025-07-15T12:47:26.189282Z",
     "shell.execute_reply": "2025-07-15T12:47:26.188236Z"
    },
    "papermill": {
     "duration": 0.036651,
     "end_time": "2025-07-15T12:47:26.190969",
     "exception": false,
     "start_time": "2025-07-15T12:47:26.154318",
     "status": "completed"
    },
    "tags": []
   },
   "outputs": [],
   "source": [
    "df = df.drop(columns=['customerID'])\n",
    "df['Churn'] = df['Churn'].map({'Yes': 1, 'No': 0})\n",
    "df['TotalCharges'] = pd.to_numeric(df['TotalCharges'], errors='coerce')\n",
    "df = df.dropna(subset=['TotalCharges'])\n",
    "df.reset_index(drop=True, inplace=True)\n",
    "\n",
    "numeric_features = ['tenure', 'MonthlyCharges', 'TotalCharges']\n",
    "categorical_features = df.drop(columns=numeric_features + ['Churn']).columns.tolist()\n",
    "\n",
    "X = df.drop(columns=['Churn'])\n",
    "y = df['Churn']\n",
    "\n",
    "X_train, X_test, y_train, y_test = train_test_split(\n",
    "    X, y, test_size=0.2, random_state=42)\n",
    "\n",
    "numeric_transformer = Pipeline(steps=[\n",
    "    ('imputer', SimpleImputer(strategy='mean')),\n",
    "    ('scaler', StandardScaler())\n",
    "])\n",
    "\n",
    "categorical_transformer = Pipeline(steps=[\n",
    "    ('imputer', SimpleImputer(strategy='most_frequent')),\n",
    "    ('encoder', OneHotEncoder(handle_unknown='ignore'))\n",
    "])\n",
    "\n",
    "preprocessor = ColumnTransformer(\n",
    "    transformers=[\n",
    "        ('num', numeric_transformer, numeric_features),\n",
    "        ('cat', categorical_transformer, categorical_features)\n",
    "    ]\n",
    ")"
   ]
  },
  {
   "cell_type": "markdown",
   "id": "6ad42514",
   "metadata": {
    "papermill": {
     "duration": 0.012148,
     "end_time": "2025-07-15T12:47:26.215751",
     "exception": false,
     "start_time": "2025-07-15T12:47:26.203603",
     "status": "completed"
    },
    "tags": []
   },
   "source": [
    "---\n",
    "\n",
    "## Training ML Models\n",
    "\n",
    "We will now train and evaluate three models:\n",
    "- Logistic Regression  \n",
    "- Random Forest  \n",
    "- XGBoost  \n",
    "\n",
    "All models will be wrapped in sklearn Pipelines using the same preprocessing steps.\n"
   ]
  },
  {
   "cell_type": "code",
   "execution_count": 20,
   "id": "515b70fa",
   "metadata": {
    "execution": {
     "iopub.execute_input": "2025-07-15T12:47:26.241843Z",
     "iopub.status.busy": "2025-07-15T12:47:26.241551Z",
     "iopub.status.idle": "2025-07-15T12:47:28.472412Z",
     "shell.execute_reply": "2025-07-15T12:47:28.471219Z"
    },
    "papermill": {
     "duration": 2.246888,
     "end_time": "2025-07-15T12:47:28.474781",
     "exception": false,
     "start_time": "2025-07-15T12:47:26.227893",
     "status": "completed"
    },
    "tags": []
   },
   "outputs": [
    {
     "name": "stdout",
     "output_type": "stream",
     "text": [
      "\n",
      " Model LogisticRegression trained successfully.\n",
      "\n",
      " Classification Report for LogisticRegression:\n",
      "              precision    recall  f1-score   support\n",
      "\n",
      "           0       0.84      0.89      0.86      1033\n",
      "           1       0.62      0.52      0.56       374\n",
      "\n",
      "    accuracy                           0.79      1407\n",
      "   macro avg       0.73      0.70      0.71      1407\n",
      "weighted avg       0.78      0.79      0.78      1407\n",
      "\n",
      "LogisticRegression — Accuracy: 0.788, ROC AUC: 0.832\n",
      "Confusion Matrix:\n",
      "[[916 117]\n",
      " [181 193]]\n",
      "\n",
      " Model RandomForest trained successfully.\n",
      "\n",
      " Classification Report for RandomForest:\n",
      "              precision    recall  f1-score   support\n",
      "\n",
      "           0       0.82      0.90      0.86      1033\n",
      "           1       0.64      0.47      0.54       374\n",
      "\n",
      "    accuracy                           0.79      1407\n",
      "   macro avg       0.73      0.69      0.70      1407\n",
      "weighted avg       0.77      0.79      0.78      1407\n",
      "\n",
      "RandomForest — Accuracy: 0.787, ROC AUC: 0.812\n",
      "Confusion Matrix:\n",
      "[[932 101]\n",
      " [198 176]]\n",
      "\n",
      " Model XGBoost trained successfully.\n",
      "\n",
      " Classification Report for XGBoost:\n",
      "              precision    recall  f1-score   support\n",
      "\n",
      "           0       0.82      0.87      0.84      1033\n",
      "           1       0.57      0.49      0.52       374\n",
      "\n",
      "    accuracy                           0.77      1407\n",
      "   macro avg       0.70      0.68      0.68      1407\n",
      "weighted avg       0.76      0.77      0.76      1407\n",
      "\n",
      "XGBoost — Accuracy: 0.765, ROC AUC: 0.81\n",
      "Confusion Matrix:\n",
      "[[895 138]\n",
      " [192 182]]\n"
     ]
    },
    {
     "data": {
      "image/png": "[encoded data removed]",
      "text/plain": [
       "<Figure size 800x600 with 1 Axes>"
      ]
     },
     "metadata": {},
     "output_type": "display_data"
    }
   ],
   "source": [
    "models = {\n",
    "    \"LogisticRegression\": LogisticRegression(max_iter=1000),\n",
    "    \"RandomForest\": RandomForestClassifier(random_state=42),\n",
    "    \"XGBoost\": XGBClassifier(use_label_encoder=False, eval_metric='logloss', random_state=42)\n",
    "}\n",
    "\n",
    "results = {}\n",
    "metrics = {}\n",
    "\n",
    "plt.figure(figsize=(8, 6))\n",
    "\n",
    "for name, clf in models.items():\n",
    "    model = Pipeline(steps=[\n",
    "        ('preprocessor', preprocessor),\n",
    "        ('classifier', clf)\n",
    "    ])\n",
    "\n",
    "    model.fit(X_train, y_train)\n",
    "    print(f\"\\n Model {name} trained successfully.\")\n",
    "\n",
    "    y_pred = model.predict(X_test)\n",
    "    y_prob = model.predict_proba(X_test)[:, 1]\n",
    "\n",
    "    print(f\"\\n Classification Report for {name}:\\n{classification_report(y_test, y_pred)}\")\n",
    "    acc = round(accuracy_score(y_test, y_pred), 3)\n",
    "    auc = round(roc_auc_score(y_test, y_prob), 3)\n",
    "\n",
    "    print(f\"{name} — Accuracy: {acc}, ROC AUC: {auc}\")\n",
    "    print(\"Confusion Matrix:\")\n",
    "    print(confusion_matrix(y_test, y_pred))\n",
    "\n",
    "    fpr, tpr, _ = roc_curve(y_test, y_prob)\n",
    "    plt.plot(fpr, tpr, label=f\"{name} (AUC = {auc})\")\n",
    "\n",
    "    results[name] = {\n",
    "        \"pipeline\": model,\n",
    "        \"auc\": auc,\n",
    "        \"acc\": acc\n",
    "    }\n",
    "\n",
    "    metrics[name] = {\n",
    "        \"accuracy\": acc,\n",
    "        \"roc_auc\": auc,\n",
    "        \"classification_report\": classification_report(y_test, y_pred, output_dict=True),\n",
    "        \"confusion_matrix\": confusion_matrix(y_test, y_pred).tolist()\n",
    "    }\n",
    "\n",
    "\n",
    "\n",
    "plt.plot([0, 1], [0, 1], 'k--')\n",
    "plt.xlabel('False Positive Rate')\n",
    "plt.ylabel('True Positive Rate')\n",
    "plt.title('ROC Curves for Different Models')\n",
    "plt.legend()\n",
    "plt.tight_layout()\n",
    "plt.show()\n"
   ]
  },
  {
   "cell_type": "code",
   "execution_count": 21,
   "id": "b6bf5a8a",
   "metadata": {
    "execution": {
     "iopub.execute_input": "2025-07-15T12:47:28.509209Z",
     "iopub.status.busy": "2025-07-15T12:47:28.508797Z",
     "iopub.status.idle": "2025-07-15T12:47:28.514833Z",
     "shell.execute_reply": "2025-07-15T12:47:28.513652Z"
    },
    "papermill": {
     "duration": 0.023829,
     "end_time": "2025-07-15T12:47:28.516418",
     "exception": false,
     "start_time": "2025-07-15T12:47:28.492589",
     "status": "completed"
    },
    "tags": []
   },
   "outputs": [
    {
     "name": "stdout",
     "output_type": "stream",
     "text": [
      "\n",
      " Best model: LogisticRegression with AUC: 0.832\n"
     ]
    }
   ],
   "source": [
    "\n",
    "best_model_name = max(results, key=lambda name: results[name]['auc'])\n",
    "print(f\"\\n Best model: {best_model_name} with AUC: {results[best_model_name]['auc']}\")\n",
    "best_model = results[best_model_name]['pipeline']"
   ]
  },
  {
   "cell_type": "markdown",
   "id": "a4de1737",
   "metadata": {
    "papermill": {
     "duration": 0.014025,
     "end_time": "2025-07-15T12:47:28.547383",
     "exception": false,
     "start_time": "2025-07-15T12:47:28.533358",
     "status": "completed"
    },
    "tags": []
   },
   "source": [
    "---\n",
    "\n",
    "## Confusion Matrices"
   ]
  },
  {
   "cell_type": "code",
   "execution_count": 22,
   "id": "56101a54",
   "metadata": {
    "execution": {
     "iopub.execute_input": "2025-07-15T12:47:28.577886Z",
     "iopub.status.busy": "2025-07-15T12:47:28.577548Z",
     "iopub.status.idle": "2025-07-15T12:47:29.627921Z",
     "shell.execute_reply": "2025-07-15T12:47:29.627115Z"
    },
    "papermill": {
     "duration": 1.068051,
     "end_time": "2025-07-15T12:47:29.630240",
     "exception": false,
     "start_time": "2025-07-15T12:47:28.562189",
     "status": "completed"
    },
    "tags": []
   },
   "outputs": [
    {
     "data": {
      "image/png": "[encoded data removed]",
      "text/plain": [
       "<Figure size 1500x500 with 6 Axes>"
      ]
     },
     "metadata": {},
     "output_type": "display_data"
    }
   ],
   "source": [
    "model_names = [\"LogisticRegression\", \"RandomForest\", \"XGBoost\"]\n",
    "labels = [\"No Churn\", \"Churn\"]\n",
    "\n",
    "fig, axes = plt.subplots(1, 3, figsize=(15, 5))\n",
    "\n",
    "for i, name in enumerate(model_names):\n",
    "    cm = np.array(metrics[name][\"confusion_matrix\"])\n",
    "    ax = axes[i]\n",
    "    sns.heatmap(cm, annot=True, fmt=\"d\", cmap=\"Blues\", ax=ax,\n",
    "                xticklabels=labels, yticklabels=labels)\n",
    "    ax.set_title(f\"{name}\")\n",
    "    ax.set_xlabel(\"Predicted\")\n",
    "    ax.set_ylabel(\"Actual\")\n",
    "\n",
    "plt.suptitle(\"Confusion Matrices for All Models\", fontsize=16, fontweight='bold')\n",
    "plt.tight_layout(rect=[0, 0.03, 1, 0.95])\n",
    "plt.show()\n"
   ]
  }
 ],
 "metadata": {
  "kaggle": {
   "accelerator": "none",
   "dataSources": [
    {
     "datasetId": 13996,
     "sourceId": 18858,
     "sourceType": "datasetVersion"
    }
   ],
   "dockerImageVersionId": 31089,
   "isGpuEnabled": false,
   "isInternetEnabled": true,
   "language": "python",
   "sourceType": "notebook"
  },
  "kernelspec": {
   "display_name": "Python 3",
   "language": "python",
   "name": "python3"
  },
  "language_info": {
   "codemirror_mode": {
    "name": "ipython",
    "version": 3
   },
   "file_extension": ".py",
   "mimetype": "text/x-python",
   "name": "python",
   "nbconvert_exporter": "python",
   "pygments_lexer": "ipython3",
   "version": "3.11.13"
  },
  "papermill": {
   "default_parameters": {},
   "duration": 18.509383,
   "end_time": "2025-07-15T12:47:30.467767",
   "environment_variables": {},
   "exception": null,
   "input_path": "__notebook__.ipynb",
   "output_path": "__notebook__.ipynb",
   "parameters": {},
   "start_time": "2025-07-15T12:47:11.958384",
   "version": "2.6.0"
  }
 },
 "nbformat": 4,
 "nbformat_minor": 5
}
