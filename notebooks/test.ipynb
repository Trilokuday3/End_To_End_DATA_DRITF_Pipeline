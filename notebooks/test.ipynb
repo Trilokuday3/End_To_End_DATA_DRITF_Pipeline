{
 "cells": [
  {
   "cell_type": "code",
   "execution_count": 5,
   "id": "bab3f003",
   "metadata": {},
   "outputs": [
    {
     "data": {
      "text/plain": [
       "(0, 20)"
      ]
     },
     "execution_count": 5,
     "metadata": {},
     "output_type": "execute_result"
    }
   ],
   "source": [
    "df.shape"
   ]
  },
  {
   "cell_type": "code",
   "execution_count": 10,
   "id": "08db1cc3",
   "metadata": {},
   "outputs": [
    {
     "name": "stdout",
     "output_type": "stream",
     "text": [
      "(7032, 20)\n",
      "(7032, 20)\n"
     ]
    }
   ],
   "source": [
    "import pandas  as pd\n",
    "df = pd.read_csv(r\"C:\\Users\\trilo\\Downloads\\MLOps\\End_To_End_DATA_DRITF_Pipeline\\data\\processed\\Preprocessed_Data.csv\")\n",
    "print(df.shape)  # Should show nonzero rows\n",
    "df['Churn'] = df['Churn'].map({'Yes': 1, 'No': 0})\n",
    "df['TotalCharges'] = pd.to_numeric(df['TotalCharges'], errors='coerce')\n",
    "\n",
    "# Drop rows only if Churn or TotalCharges is missing\n",
    "df = df.dropna(subset=['TotalCharges'])\n",
    "\n",
    "print(df.shape)  # Should show nonzero rows"
   ]
  },
  {
   "cell_type": "code",
   "execution_count": 7,
   "id": "edf3c17f",
   "metadata": {},
   "outputs": [
    {
     "data": {
      "text/plain": [
       "(0, 20)"
      ]
     },
     "execution_count": 7,
     "metadata": {},
     "output_type": "execute_result"
    }
   ],
   "source": [
    "df.shape"
   ]
  },
  {
   "cell_type": "code",
   "execution_count": 1,
   "id": "628d80f9",
   "metadata": {},
   "outputs": [],
   "source": [
    "import os\n",
    "\n",
    "os.makedirs(\"artifacts\", exist_ok=True)\n",
    "os.makedirs(\"log\", exist_ok=True)"
   ]
  },
  {
   "cell_type": "code",
   "execution_count": 8,
   "id": "ba99b299",
   "metadata": {},
   "outputs": [
    {
     "ename": "ImportError",
     "evalue": "cannot import name 'DataDriftMetric' from 'evidently.metrics' (c:\\Users\\trilo\\anaconda3\\envs\\data_drift\\Lib\\site-packages\\evidently\\metrics\\__init__.py)",
     "output_type": "error",
     "traceback": [
      "\u001b[31m---------------------------------------------------------------------------\u001b[39m",
      "\u001b[31mImportError\u001b[39m                               Traceback (most recent call last)",
      "\u001b[36mCell\u001b[39m\u001b[36m \u001b[39m\u001b[32mIn[8]\u001b[39m\u001b[32m, line 2\u001b[39m\n\u001b[32m      1\u001b[39m \u001b[38;5;28;01mfrom\u001b[39;00m\u001b[38;5;250m \u001b[39m\u001b[34;01mevidently\u001b[39;00m\u001b[38;5;250m \u001b[39m\u001b[38;5;28;01mimport\u001b[39;00m Report\n\u001b[32m----> \u001b[39m\u001b[32m2\u001b[39m \u001b[38;5;28;01mfrom\u001b[39;00m\u001b[38;5;250m \u001b[39m\u001b[34;01mevidently\u001b[39;00m\u001b[34;01m.\u001b[39;00m\u001b[34;01mmetrics\u001b[39;00m\u001b[38;5;250m \u001b[39m\u001b[38;5;28;01mimport\u001b[39;00m DataDriftMetric\n",
      "\u001b[31mImportError\u001b[39m: cannot import name 'DataDriftMetric' from 'evidently.metrics' (c:\\Users\\trilo\\anaconda3\\envs\\data_drift\\Lib\\site-packages\\evidently\\metrics\\__init__.py)"
     ]
    }
   ],
   "source": [
    "from evidently import Report\n",
    "from evidently.metrics import DataDriftMetric"
   ]
  },
  {
   "cell_type": "code",
   "execution_count": 4,
   "id": "0a6b2685",
   "metadata": {},
   "outputs": [
    {
     "name": "stdout",
     "output_type": "stream",
     "text": [
      "Collecting git+https://github.com/evidentlyai/evidently.git\n",
      "  Cloning https://github.com/evidentlyai/evidently.git to c:\\users\\trilo\\appdata\\local\\temp\\pip-req-build-5smvbnvf\n",
      "  Resolved https://github.com/evidentlyai/evidently.git to commit 84d7f6a59ea25c4e8f172cd0c806745d576f37e1\n",
      "  Preparing metadata (setup.py): started\n",
      "  Preparing metadata (setup.py): finished with status 'done'\n",
      "Requirement already satisfied: plotly<6,>=5.10.0 in c:\\users\\trilo\\anaconda3\\envs\\data_drift\\lib\\site-packages (from evidently==0.7.11) (5.24.1)\n",
      "Requirement already satisfied: statsmodels>=0.12.2 in c:\\users\\trilo\\anaconda3\\envs\\data_drift\\lib\\site-packages (from evidently==0.7.11) (0.14.5)\n",
      "Requirement already satisfied: scikit-learn>=1.0.1 in c:\\users\\trilo\\anaconda3\\envs\\data_drift\\lib\\site-packages (from evidently==0.7.11) (1.7.1)\n",
      "Requirement already satisfied: pandas>=1.3.5 in c:\\users\\trilo\\anaconda3\\envs\\data_drift\\lib\\site-packages (from pandas[parquet]>=1.3.5->evidently==0.7.11) (2.3.1)\n",
      "Requirement already satisfied: numpy>=1.22.0 in c:\\users\\trilo\\anaconda3\\envs\\data_drift\\lib\\site-packages (from evidently==0.7.11) (2.3.2)\n",
      "Requirement already satisfied: nltk>=3.6.7 in c:\\users\\trilo\\anaconda3\\envs\\data_drift\\lib\\site-packages (from evidently==0.7.11) (3.9.1)\n",
      "Requirement already satisfied: scipy>=1.10.0 in c:\\users\\trilo\\anaconda3\\envs\\data_drift\\lib\\site-packages (from evidently==0.7.11) (1.16.1)\n",
      "Requirement already satisfied: requests>=2.32.0 in c:\\users\\trilo\\anaconda3\\envs\\data_drift\\lib\\site-packages (from evidently==0.7.11) (2.32.4)\n",
      "Requirement already satisfied: PyYAML>=5.4 in c:\\users\\trilo\\anaconda3\\envs\\data_drift\\lib\\site-packages (from evidently==0.7.11) (6.0.2)\n",
      "Requirement already satisfied: pydantic>=1.10.16 in c:\\users\\trilo\\anaconda3\\envs\\data_drift\\lib\\site-packages (from evidently==0.7.11) (2.11.7)\n",
      "Requirement already satisfied: litestar>=2.8.3 in c:\\users\\trilo\\anaconda3\\envs\\data_drift\\lib\\site-packages (from evidently==0.7.11) (2.16.0)\n",
      "Requirement already satisfied: typing-inspect>=0.9.0 in c:\\users\\trilo\\anaconda3\\envs\\data_drift\\lib\\site-packages (from evidently==0.7.11) (0.9.0)\n",
      "Requirement already satisfied: uvicorn>=0.22.0 in c:\\users\\trilo\\anaconda3\\envs\\data_drift\\lib\\site-packages (from uvicorn[standard]>=0.22.0->evidently==0.7.11) (0.35.0)\n",
      "Requirement already satisfied: watchdog>=3.0.0 in c:\\users\\trilo\\anaconda3\\envs\\data_drift\\lib\\site-packages (from evidently==0.7.11) (6.0.0)\n",
      "Requirement already satisfied: typer>=0.3 in c:\\users\\trilo\\anaconda3\\envs\\data_drift\\lib\\site-packages (from evidently==0.7.11) (0.16.0)\n",
      "Requirement already satisfied: rich>=13 in c:\\users\\trilo\\anaconda3\\envs\\data_drift\\lib\\site-packages (from evidently==0.7.11) (14.1.0)\n",
      "Requirement already satisfied: iterative-telemetry>=0.0.5 in c:\\users\\trilo\\anaconda3\\envs\\data_drift\\lib\\site-packages (from evidently==0.7.11) (0.0.10)\n",
      "Requirement already satisfied: dynaconf>=3.2.4 in c:\\users\\trilo\\anaconda3\\envs\\data_drift\\lib\\site-packages (from evidently==0.7.11) (3.2.11)\n",
      "Requirement already satisfied: certifi>=2024.7.4 in c:\\users\\trilo\\anaconda3\\envs\\data_drift\\lib\\site-packages (from evidently==0.7.11) (2025.7.14)\n",
      "Requirement already satisfied: urllib3>=1.26.19 in c:\\users\\trilo\\anaconda3\\envs\\data_drift\\lib\\site-packages (from evidently==0.7.11) (2.5.0)\n",
      "Requirement already satisfied: fsspec>=2024.6.1 in c:\\users\\trilo\\anaconda3\\envs\\data_drift\\lib\\site-packages (from evidently==0.7.11) (2025.7.0)\n",
      "Requirement already satisfied: ujson>=5.4.0 in c:\\users\\trilo\\anaconda3\\envs\\data_drift\\lib\\site-packages (from evidently==0.7.11) (5.10.0)\n",
      "Requirement already satisfied: deprecation>=2.1.0 in c:\\users\\trilo\\anaconda3\\envs\\data_drift\\lib\\site-packages (from evidently==0.7.11) (2.1.0)\n",
      "Requirement already satisfied: uuid6>=2024.7.10 in c:\\users\\trilo\\anaconda3\\envs\\data_drift\\lib\\site-packages (from evidently==0.7.11) (2025.0.1)\n",
      "Requirement already satisfied: cryptography>=43.0.1 in c:\\users\\trilo\\anaconda3\\envs\\data_drift\\lib\\site-packages (from evidently==0.7.11) (45.0.5)\n",
      "Requirement already satisfied: tenacity>=6.2.0 in c:\\users\\trilo\\anaconda3\\envs\\data_drift\\lib\\site-packages (from plotly<6,>=5.10.0->evidently==0.7.11) (9.1.2)\n",
      "Requirement already satisfied: packaging in c:\\users\\trilo\\anaconda3\\envs\\data_drift\\lib\\site-packages (from plotly<6,>=5.10.0->evidently==0.7.11) (25.0)\n",
      "Requirement already satisfied: cffi>=1.14 in c:\\users\\trilo\\anaconda3\\envs\\data_drift\\lib\\site-packages (from cryptography>=43.0.1->evidently==0.7.11) (1.17.1)\n",
      "Requirement already satisfied: pycparser in c:\\users\\trilo\\anaconda3\\envs\\data_drift\\lib\\site-packages (from cffi>=1.14->cryptography>=43.0.1->evidently==0.7.11) (2.22)\n",
      "Requirement already satisfied: appdirs in c:\\users\\trilo\\anaconda3\\envs\\data_drift\\lib\\site-packages (from iterative-telemetry>=0.0.5->evidently==0.7.11) (1.4.4)\n",
      "Requirement already satisfied: filelock in c:\\users\\trilo\\anaconda3\\envs\\data_drift\\lib\\site-packages (from iterative-telemetry>=0.0.5->evidently==0.7.11) (3.18.0)\n",
      "Requirement already satisfied: distro in c:\\users\\trilo\\anaconda3\\envs\\data_drift\\lib\\site-packages (from iterative-telemetry>=0.0.5->evidently==0.7.11) (1.9.0)\n",
      "Requirement already satisfied: anyio>=3 in c:\\users\\trilo\\anaconda3\\envs\\data_drift\\lib\\site-packages (from litestar>=2.8.3->evidently==0.7.11) (4.9.0)\n",
      "Requirement already satisfied: click in c:\\users\\trilo\\anaconda3\\envs\\data_drift\\lib\\site-packages (from litestar>=2.8.3->evidently==0.7.11) (8.1.8)\n",
      "Requirement already satisfied: httpx>=0.22 in c:\\users\\trilo\\anaconda3\\envs\\data_drift\\lib\\site-packages (from litestar>=2.8.3->evidently==0.7.11) (0.28.1)\n",
      "Requirement already satisfied: litestar-htmx>=0.4.0 in c:\\users\\trilo\\anaconda3\\envs\\data_drift\\lib\\site-packages (from litestar>=2.8.3->evidently==0.7.11) (0.5.0)\n",
      "Requirement already satisfied: msgspec>=0.18.2 in c:\\users\\trilo\\anaconda3\\envs\\data_drift\\lib\\site-packages (from litestar>=2.8.3->evidently==0.7.11) (0.19.0)\n",
      "Requirement already satisfied: multidict>=6.0.2 in c:\\users\\trilo\\anaconda3\\envs\\data_drift\\lib\\site-packages (from litestar>=2.8.3->evidently==0.7.11) (6.6.3)\n",
      "Requirement already satisfied: multipart>=1.2.0 in c:\\users\\trilo\\anaconda3\\envs\\data_drift\\lib\\site-packages (from litestar>=2.8.3->evidently==0.7.11) (1.3.0)\n",
      "Requirement already satisfied: polyfactory>=2.6.3 in c:\\users\\trilo\\anaconda3\\envs\\data_drift\\lib\\site-packages (from litestar>=2.8.3->evidently==0.7.11) (2.22.1)\n",
      "Requirement already satisfied: rich-click in c:\\users\\trilo\\anaconda3\\envs\\data_drift\\lib\\site-packages (from litestar>=2.8.3->evidently==0.7.11) (1.8.9)\n",
      "Requirement already satisfied: typing-extensions in c:\\users\\trilo\\anaconda3\\envs\\data_drift\\lib\\site-packages (from litestar>=2.8.3->evidently==0.7.11) (4.14.1)\n",
      "Requirement already satisfied: idna>=2.8 in c:\\users\\trilo\\anaconda3\\envs\\data_drift\\lib\\site-packages (from anyio>=3->litestar>=2.8.3->evidently==0.7.11) (3.10)\n",
      "Requirement already satisfied: sniffio>=1.1 in c:\\users\\trilo\\anaconda3\\envs\\data_drift\\lib\\site-packages (from anyio>=3->litestar>=2.8.3->evidently==0.7.11) (1.3.1)\n",
      "Requirement already satisfied: httpcore==1.* in c:\\users\\trilo\\anaconda3\\envs\\data_drift\\lib\\site-packages (from httpx>=0.22->litestar>=2.8.3->evidently==0.7.11) (1.0.9)\n",
      "Requirement already satisfied: h11>=0.16 in c:\\users\\trilo\\anaconda3\\envs\\data_drift\\lib\\site-packages (from httpcore==1.*->httpx>=0.22->litestar>=2.8.3->evidently==0.7.11) (0.16.0)\n",
      "Requirement already satisfied: joblib in c:\\users\\trilo\\anaconda3\\envs\\data_drift\\lib\\site-packages (from nltk>=3.6.7->evidently==0.7.11) (1.5.1)\n",
      "Requirement already satisfied: regex>=2021.8.3 in c:\\users\\trilo\\anaconda3\\envs\\data_drift\\lib\\site-packages (from nltk>=3.6.7->evidently==0.7.11) (2024.11.6)\n",
      "Requirement already satisfied: tqdm in c:\\users\\trilo\\anaconda3\\envs\\data_drift\\lib\\site-packages (from nltk>=3.6.7->evidently==0.7.11) (4.67.1)\n",
      "Requirement already satisfied: python-dateutil>=2.8.2 in c:\\users\\trilo\\anaconda3\\envs\\data_drift\\lib\\site-packages (from pandas>=1.3.5->pandas[parquet]>=1.3.5->evidently==0.7.11) (2.9.0.post0)\n",
      "Requirement already satisfied: pytz>=2020.1 in c:\\users\\trilo\\anaconda3\\envs\\data_drift\\lib\\site-packages (from pandas>=1.3.5->pandas[parquet]>=1.3.5->evidently==0.7.11) (2025.2)\n",
      "Requirement already satisfied: tzdata>=2022.7 in c:\\users\\trilo\\anaconda3\\envs\\data_drift\\lib\\site-packages (from pandas>=1.3.5->pandas[parquet]>=1.3.5->evidently==0.7.11) (2025.2)\n",
      "Requirement already satisfied: pyarrow>=10.0.1 in c:\\users\\trilo\\anaconda3\\envs\\data_drift\\lib\\site-packages (from pandas[parquet]>=1.3.5->evidently==0.7.11) (20.0.0)\n",
      "Requirement already satisfied: faker>=5.0.0 in c:\\users\\trilo\\anaconda3\\envs\\data_drift\\lib\\site-packages (from polyfactory>=2.6.3->litestar>=2.8.3->evidently==0.7.11) (37.4.2)\n",
      "Requirement already satisfied: annotated-types>=0.6.0 in c:\\users\\trilo\\anaconda3\\envs\\data_drift\\lib\\site-packages (from pydantic>=1.10.16->evidently==0.7.11) (0.7.0)\n",
      "Requirement already satisfied: pydantic-core==2.33.2 in c:\\users\\trilo\\anaconda3\\envs\\data_drift\\lib\\site-packages (from pydantic>=1.10.16->evidently==0.7.11) (2.33.2)\n",
      "Requirement already satisfied: typing-inspection>=0.4.0 in c:\\users\\trilo\\anaconda3\\envs\\data_drift\\lib\\site-packages (from pydantic>=1.10.16->evidently==0.7.11) (0.4.1)\n",
      "Requirement already satisfied: six>=1.5 in c:\\users\\trilo\\anaconda3\\envs\\data_drift\\lib\\site-packages (from python-dateutil>=2.8.2->pandas>=1.3.5->pandas[parquet]>=1.3.5->evidently==0.7.11) (1.17.0)\n",
      "Requirement already satisfied: charset_normalizer<4,>=2 in c:\\users\\trilo\\anaconda3\\envs\\data_drift\\lib\\site-packages (from requests>=2.32.0->evidently==0.7.11) (3.4.2)\n",
      "Requirement already satisfied: markdown-it-py>=2.2.0 in c:\\users\\trilo\\anaconda3\\envs\\data_drift\\lib\\site-packages (from rich>=13->evidently==0.7.11) (3.0.0)\n",
      "Requirement already satisfied: pygments<3.0.0,>=2.13.0 in c:\\users\\trilo\\anaconda3\\envs\\data_drift\\lib\\site-packages (from rich>=13->evidently==0.7.11) (2.19.2)\n",
      "Requirement already satisfied: mdurl~=0.1 in c:\\users\\trilo\\anaconda3\\envs\\data_drift\\lib\\site-packages (from markdown-it-py>=2.2.0->rich>=13->evidently==0.7.11) (0.1.2)\n",
      "Requirement already satisfied: threadpoolctl>=3.1.0 in c:\\users\\trilo\\anaconda3\\envs\\data_drift\\lib\\site-packages (from scikit-learn>=1.0.1->evidently==0.7.11) (3.6.0)\n",
      "Requirement already satisfied: patsy>=0.5.6 in c:\\users\\trilo\\anaconda3\\envs\\data_drift\\lib\\site-packages (from statsmodels>=0.12.2->evidently==0.7.11) (1.0.1)\n",
      "Requirement already satisfied: shellingham>=1.3.0 in c:\\users\\trilo\\anaconda3\\envs\\data_drift\\lib\\site-packages (from typer>=0.3->evidently==0.7.11) (1.5.4)\n",
      "Requirement already satisfied: colorama in c:\\users\\trilo\\anaconda3\\envs\\data_drift\\lib\\site-packages (from click->litestar>=2.8.3->evidently==0.7.11) (0.4.6)\n",
      "Requirement already satisfied: mypy-extensions>=0.3.0 in c:\\users\\trilo\\anaconda3\\envs\\data_drift\\lib\\site-packages (from typing-inspect>=0.9.0->evidently==0.7.11) (1.1.0)\n",
      "Requirement already satisfied: httptools>=0.6.3 in c:\\users\\trilo\\anaconda3\\envs\\data_drift\\lib\\site-packages (from uvicorn[standard]>=0.22.0->evidently==0.7.11) (0.6.4)\n",
      "Requirement already satisfied: python-dotenv>=0.13 in c:\\users\\trilo\\anaconda3\\envs\\data_drift\\lib\\site-packages (from uvicorn[standard]>=0.22.0->evidently==0.7.11) (1.1.1)\n",
      "Requirement already satisfied: watchfiles>=0.13 in c:\\users\\trilo\\anaconda3\\envs\\data_drift\\lib\\site-packages (from uvicorn[standard]>=0.22.0->evidently==0.7.11) (1.1.0)\n",
      "Requirement already satisfied: websockets>=10.4 in c:\\users\\trilo\\anaconda3\\envs\\data_drift\\lib\\site-packages (from uvicorn[standard]>=0.22.0->evidently==0.7.11) (15.0.1)\n"
     ]
    },
    {
     "name": "stderr",
     "output_type": "stream",
     "text": [
      "  Running command git clone --filter=blob:none --quiet https://github.com/evidentlyai/evidently.git 'C:\\Users\\trilo\\AppData\\Local\\Temp\\pip-req-build-5smvbnvf'\n"
     ]
    }
   ],
   "source": [
    "!pip install git+https://github.com/evidentlyai/evidently.git"
   ]
  },
  {
   "cell_type": "code",
   "execution_count": 6,
   "id": "98102d7e",
   "metadata": {},
   "outputs": [
    {
     "name": "stdout",
     "output_type": "stream",
     "text": [
      "['AbsMaxError', 'Accuracy', 'AlmostConstantColumnsCount', 'AlmostDuplicatedColumnsCount', 'CategoryCount', 'ColumnCount', 'ConstantColumnsCount', 'DatasetMissingValueCount', 'DriftedColumnsCount', 'DummyAccuracy', 'DummyF1Score', 'DummyFNR', 'DummyFPR', 'DummyLogLoss', 'DummyMAE', 'DummyMAPE', 'DummyPrecision', 'DummyRMSE', 'DummyRecall', 'DummyRocAuc', 'DummyTNR', 'DummyTPR', 'DuplicatedColumnsCount', 'DuplicatedRowCount', 'EmptyColumnsCount', 'EmptyRowsCount', 'F1ByLabel', 'F1Score', 'FBetaTopK', 'FNR', 'FPR', 'GroupBy', 'HitRate', 'InListValueCount', 'InRangeValueCount', 'LogLoss', 'MAE', 'MAP', 'MAPE', 'MRR', 'MaxValue', 'MeanError', 'MeanValue', 'MedianValue', 'MinValue', 'MissingValueCount', 'NDCG', 'OutListValueCount', 'OutRangeValueCount', 'Precision', 'PrecisionByLabel', 'PrecisionTopK', 'QuantileValue', 'R2Score', 'RMSE', 'Recall', 'RecallByLabel', 'RecallTopK', 'RocAuc', 'RocAucByLabel', 'RowCount', 'ScoreDistribution', 'StdValue', 'TNR', 'TPR', 'UniqueValueCount', 'ValueDrift', '__all__', '__builtins__', '__cached__', '__doc__', '__file__', '__loader__', '__name__', '__package__', '__path__', '__spec__', '_legacy', 'classification', 'column_statistics', 'dataset_statistics', 'group_by', 'recsys', 'regression']\n"
     ]
    }
   ],
   "source": [
    "import evidently\n",
    "print(dir(evidently.metrics))"
   ]
  },
  {
   "cell_type": "code",
   "execution_count": 9,
   "id": "30a774bd",
   "metadata": {},
   "outputs": [
    {
     "ename": "NameError",
     "evalue": "name 'report' is not defined",
     "output_type": "error",
     "traceback": [
      "\u001b[31m---------------------------------------------------------------------------\u001b[39m",
      "\u001b[31mNameError\u001b[39m                                 Traceback (most recent call last)",
      "\u001b[36mCell\u001b[39m\u001b[36m \u001b[39m\u001b[32mIn[9]\u001b[39m\u001b[32m, line 1\u001b[39m\n\u001b[32m----> \u001b[39m\u001b[32m1\u001b[39m \u001b[38;5;28mprint\u001b[39m(\u001b[38;5;28mdir\u001b[39m(\u001b[43mreport\u001b[49m))\n",
      "\u001b[31mNameError\u001b[39m: name 'report' is not defined"
     ]
    }
   ],
   "source": [
    "print(dir(report))"
   ]
  },
  {
   "cell_type": "code",
   "execution_count": null,
   "id": "cc8a800d",
   "metadata": {},
   "outputs": [],
   "source": [
    "import os\n",
    "import warnings\n",
    "import sys\n",
    "import logging\n",
    "import pandas as pd\n",
    "import numpy as np\n",
    "from sklearn.impute import SimpleImputer\n",
    "from sklearn.preprocessing import StandardScaler, OneHotEncoder\n",
    "from sklearn.compose import ColumnTransformer\n",
    "from sklearn.model_selection import train_test_split\n",
    "from sklearn.pipeline import Pipeline\n",
    "from sklearn.ensemble import RandomForestClassifier\n",
    "from sklearn.linear_model import LogisticRegression\n",
    "from xgboost import XGBClassifier\n",
    "from sklearn.metrics import (\n",
    "    accuracy_score, confusion_matrix, roc_auc_score,\n",
    "    classification_report, mean_squared_error, mean_absolute_error, r2_score\n",
    ")\n",
    "import mlflow\n",
    "import joblib\n",
    "import dagshub\n",
    "\n",
    "from evidently.dashboard import Dashboard\n",
    "from evidently.dashboard.tabs import DataDriftTab\n",
    "\n",
    "dagshub.init(repo_owner='Trilokuday3', repo_name='End_To_End_DATA_DRITF_Pipeline-dagshub', mlflow=True)\n",
    "\n",
    "logging.basicConfig(level=logging.WARN)\n",
    "logger = logging.getLogger(__name__)\n",
    "\n",
    "def eval_metrics(y_true, y_pred, y_prob):\n",
    "    acc = accuracy_score(y_true, y_pred)\n",
    "    rocauc = roc_auc_score(y_true, y_prob)\n",
    "    mse = mean_squared_error(y_true, y_prob)\n",
    "    rmse = np.sqrt(mse)\n",
    "    mae = mean_absolute_error(y_true, y_prob)\n",
    "    r2 = r2_score(y_true, y_prob)\n",
    "    return acc, rocauc, mse, rmse, mae, r2\n",
    "\n",
    "if __name__ == \"__main__\":\n",
    "    warnings.filterwarnings(\"ignore\")\n",
    "    np.random.seed(42)\n",
    "    data_path = r\"C:\\Users\\trilo\\Downloads\\End To End DATA DRITF Pipeline\\data\\processed\\Preprocessed_Data.csv\"\n",
    "    try:\n",
    "        df = pd.read_csv(data_path)\n",
    "    except Exception as e:\n",
    "        logger.exception(\"Unable to load processed data CSV, check your file path. Error: %s\", e)\n",
    "        sys.exit(1)\n",
    "\n",
    "    numeric_features = ['tenure', 'MonthlyCharges', 'TotalCharges']\n",
    "    categorical_features = df.drop(columns=numeric_features + ['Churn']).columns.tolist()\n",
    "\n",
    "    X = df.drop(columns=['Churn'])\n",
    "    y = df['Churn']\n",
    "\n",
    "    X_train, X_test, y_train, y_test = train_test_split(\n",
    "        X, y, test_size=0.2, random_state=42\n",
    "    )\n",
    "\n",
    "    numeric_transformer = Pipeline(steps=[\n",
    "        ('imputer', SimpleImputer(strategy='mean')),\n",
    "        ('scaler', StandardScaler())\n",
    "    ])\n",
    "    categorical_transformer = Pipeline(steps=[\n",
    "        ('imputer', SimpleImputer(strategy='most_frequent')),\n",
    "        ('encoder', OneHotEncoder(handle_unknown='ignore'))\n",
    "    ])\n",
    "    preprocessor = ColumnTransformer(\n",
    "        transformers=[\n",
    "            ('num', numeric_transformer, numeric_features),\n",
    "            ('cat', categorical_transformer, categorical_features)\n",
    "        ]\n",
    "    )\n",
    "\n",
    "    # Define parameter grids for each model\n",
    "    param_grid = {\n",
    "        \"LogisticRegression\": [\n",
    "            {\"max_iter\": 1000, \"C\": 1.0},\n",
    "            {\"max_iter\": 2000, \"C\": 0.5}\n",
    "        ],\n",
    "        \"RandomForest\": [\n",
    "            {\"n_estimators\": 100, \"max_depth\": 10},\n",
    "            {\"n_estimators\": 200, \"max_depth\": 20}\n",
    "        ],\n",
    "        \"XGBoost\": [\n",
    "            {\"n_estimators\": 100, \"max_depth\": 3, \"learning_rate\": 0.1},\n",
    "            {\"n_estimators\": 200, \"max_depth\": 4, \"learning_rate\": 0.05}\n",
    "        ]\n",
    "    }\n",
    "\n",
    "    remote_server_uri = \"https://dagshub.com/Trilokuday3/End_To_End_DATA_DRITF_Pipeline.mlflow\"\n",
    "    mlflow.set_tracking_uri(remote_server_uri)\n",
    "\n",
    "    experiment_name = \"TelcoChurnParamGridSearch\"\n",
    "    mlflow.set_experiment(experiment_name)\n",
    "\n",
    "    model_map = {\n",
    "        \"LogisticRegression\": LogisticRegression,\n",
    "        \"RandomForest\": RandomForestClassifier,\n",
    "        \"XGBoost\": XGBClassifier\n",
    "    }\n",
    "\n",
    "    os.makedirs(\"artifacts\", exist_ok=True)\n",
    "\n",
    "    for model_name, param_list in param_grid.items():\n",
    "        for params in param_list:\n",
    "            print(f\"\\n=== Running {model_name} with params: {params} ===\\n\")\n",
    "\n",
    "            if model_name == \"XGBoost\":\n",
    "                params = params.copy()\n",
    "                params[\"use_label_encoder\"] = False\n",
    "                params[\"eval_metric\"] = \"logloss\"\n",
    "                params[\"random_state\"] = 42\n",
    "            else:\n",
    "                params = params.copy()\n",
    "                params[\"random_state\"] = 42\n",
    "\n",
    "            classifier = model_map[model_name](**params)\n",
    "            model = Pipeline(steps=[('preprocessor', preprocessor), ('classifier', classifier)])\n",
    "\n",
    "            with mlflow.start_run(run_name=f\"{model_name}_{params}\"):\n",
    "                model.fit(X_train, y_train)\n",
    "                y_pred = model.predict(X_test)\n",
    "                y_prob = model.predict_proba(X_test)[:, 1]\n",
    "\n",
    "                acc, rocauc, mse, rmse, mae, r2 = eval_metrics(y_test, y_pred, y_prob)\n",
    "\n",
    "                metrics_dict = {\n",
    "                    \"accuracy\": acc,\n",
    "                    \"roc_auc\": rocauc,\n",
    "                    \"mse\": mse,\n",
    "                    \"rmse\": rmse,\n",
    "                    \"mae\": mae,\n",
    "                    \"r2\": r2\n",
    "                }\n",
    "                print(f\"{model_name} ({params}) model results:\")\n",
    "                for k, v in metrics_dict.items():\n",
    "                    print(f\"{k}: {v:.4f}\")\n",
    "                print(\"Classification Report:\\n\", classification_report(y_test, y_pred))\n",
    "                print(\"Confusion Matrix:\\n\", confusion_matrix(y_test, y_pred))\n",
    "                mlflow.log_param(\"model_type\", model_name)\n",
    "                mlflow.log_params(params)\n",
    "                mlflow.log_metrics(metrics_dict)\n",
    "\n",
    "                # Save and log the model as artifact\n",
    "                model_path = os.path.join(\"artifacts\", f\"{model_name}_{str(params).replace(' ', '').replace(':', '').replace(',', '_')}_model.pkl\")\n",
    "                joblib.dump(model, model_path)\n",
    "                mlflow.log_artifact(model_path, artifact_path=\"artifacts\")\n",
    "                os.remove(model_path)\n",
    "\n",
    "                # ---------- START EVIDENTLY DATA DRIFT BLOCK ----------\n",
    "                drift_report_html = os.path.join(\n",
    "                    \"artifacts\", f\"drift_report_{model_name}_{str(params).replace(' ', '').replace(':', '').replace(',', '_')}.html\"\n",
    "                )\n",
    "\n",
    "                dashboard = Dashboard(tabs=[DataDriftTab()])\n",
    "                dashboard.calculate(reference_data=X_train, current_data=X_test)\n",
    "                dashboard.save(drift_report_html)\n",
    "\n",
    "                mlflow.log_artifact(drift_report_html, artifact_path=\"artifacts\")\n",
    "                # ---------- END EVIDENTLY DATA DRIFT BLOCK ----------"
   ]
  }
 ],
 "metadata": {
  "kernelspec": {
   "display_name": "data_drift",
   "language": "python",
   "name": "python3"
  },
  "language_info": {
   "codemirror_mode": {
    "name": "ipython",
    "version": 3
   },
   "file_extension": ".py",
   "mimetype": "text/x-python",
   "name": "python",
   "nbconvert_exporter": "python",
   "pygments_lexer": "ipython3",
   "version": "3.11.13"
  }
 },
 "nbformat": 4,
 "nbformat_minor": 5
}
